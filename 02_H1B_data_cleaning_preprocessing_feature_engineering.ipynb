{
 "cells": [
  {
   "cell_type": "code",
   "execution_count": 105,
   "id": "7768fcdc-6235-492e-a4d9-78dc57f468c7",
   "metadata": {},
   "outputs": [],
   "source": [
    "import pandas as pd\n",
    "import numpy as np\n",
    "import matplotlib.pyplot as plt\n",
    "import seaborn as sns\n",
    "import warnings\n",
    "warnings.filterwarnings(action='ignore')"
   ]
  },
  {
   "cell_type": "code",
   "execution_count": 107,
   "id": "0754ba99-d9f8-43fa-963c-4eefd825905b",
   "metadata": {},
   "outputs": [],
   "source": [
    "df=pd.read_csv(\"h1b_cleaned_data.csv\")"
   ]
  },
  {
   "cell_type": "code",
   "execution_count": 109,
   "id": "f7734a40-a95c-4f7d-bc9c-4430fed97d40",
   "metadata": {},
   "outputs": [
    {
     "data": {
      "text/html": [
       "<div>\n",
       "<style scoped>\n",
       "    .dataframe tbody tr th:only-of-type {\n",
       "        vertical-align: middle;\n",
       "    }\n",
       "\n",
       "    .dataframe tbody tr th {\n",
       "        vertical-align: top;\n",
       "    }\n",
       "\n",
       "    .dataframe thead th {\n",
       "        text-align: right;\n",
       "    }\n",
       "</style>\n",
       "<table border=\"1\" class=\"dataframe\">\n",
       "  <thead>\n",
       "    <tr style=\"text-align: right;\">\n",
       "      <th></th>\n",
       "      <th>CASE_STATUS</th>\n",
       "      <th>RECEIVED_DATE</th>\n",
       "      <th>DECISION_DATE</th>\n",
       "      <th>BEGIN_DATE</th>\n",
       "      <th>END_DATE</th>\n",
       "      <th>VISA_CLASS</th>\n",
       "      <th>JOB_TITLE</th>\n",
       "      <th>SOC_CODE</th>\n",
       "      <th>SOC_TITLE</th>\n",
       "      <th>FULL_TIME_POSITION</th>\n",
       "      <th>...</th>\n",
       "      <th>WORKSITE_STATE</th>\n",
       "      <th>WAGE_RATE_OF_PAY_FROM</th>\n",
       "      <th>WAGE_UNIT_OF_PAY</th>\n",
       "      <th>PREVAILING_WAGE</th>\n",
       "      <th>PW_UNIT_OF_PAY</th>\n",
       "      <th>PW_WAGE_LEVEL</th>\n",
       "      <th>H1B_DEPENDENT</th>\n",
       "      <th>WILLFUL_VIOLATOR</th>\n",
       "      <th>AGREE_TO_LC_STATEMENT</th>\n",
       "      <th>TOTAL_WORKSITE_LOCATIONS</th>\n",
       "    </tr>\n",
       "  </thead>\n",
       "  <tbody>\n",
       "    <tr>\n",
       "      <th>0</th>\n",
       "      <td>Certified</td>\n",
       "      <td>2019-09-25</td>\n",
       "      <td>2019-10-01</td>\n",
       "      <td>2019-10-07</td>\n",
       "      <td>2022-10-07</td>\n",
       "      <td>H-1B</td>\n",
       "      <td>Engineering</td>\n",
       "      <td>15-1199</td>\n",
       "      <td>COMPUTER OCCUPATIONS, ALL OTHER</td>\n",
       "      <td>Y</td>\n",
       "      <td>...</td>\n",
       "      <td>OH</td>\n",
       "      <td>100000.00</td>\n",
       "      <td>Year</td>\n",
       "      <td>95118.0</td>\n",
       "      <td>Year</td>\n",
       "      <td>IV</td>\n",
       "      <td>No</td>\n",
       "      <td>No</td>\n",
       "      <td>Yes</td>\n",
       "      <td>1.0</td>\n",
       "    </tr>\n",
       "    <tr>\n",
       "      <th>1</th>\n",
       "      <td>Certified</td>\n",
       "      <td>2019-09-25</td>\n",
       "      <td>2019-10-01</td>\n",
       "      <td>2020-01-08</td>\n",
       "      <td>2023-01-07</td>\n",
       "      <td>H-1B</td>\n",
       "      <td>IT &amp; Software</td>\n",
       "      <td>15-1132</td>\n",
       "      <td>SOFTWARE DEVELOPERS, APPLICATIONS</td>\n",
       "      <td>Y</td>\n",
       "      <td>...</td>\n",
       "      <td>TN</td>\n",
       "      <td>38.57</td>\n",
       "      <td>Hour</td>\n",
       "      <td>39.0</td>\n",
       "      <td>Hour</td>\n",
       "      <td>II</td>\n",
       "      <td>Yes</td>\n",
       "      <td>No</td>\n",
       "      <td>Yes</td>\n",
       "      <td>1.0</td>\n",
       "    </tr>\n",
       "    <tr>\n",
       "      <th>2</th>\n",
       "      <td>Certified</td>\n",
       "      <td>2019-09-25</td>\n",
       "      <td>2019-10-01</td>\n",
       "      <td>2019-10-03</td>\n",
       "      <td>2022-10-02</td>\n",
       "      <td>H-1B</td>\n",
       "      <td>Engineering</td>\n",
       "      <td>17-2141</td>\n",
       "      <td>MECHANICAL ENGINEERS</td>\n",
       "      <td>Y</td>\n",
       "      <td>...</td>\n",
       "      <td>MI</td>\n",
       "      <td>43.50</td>\n",
       "      <td>Hour</td>\n",
       "      <td>39.0</td>\n",
       "      <td>Hour</td>\n",
       "      <td>II</td>\n",
       "      <td>Yes</td>\n",
       "      <td>No</td>\n",
       "      <td>Yes</td>\n",
       "      <td>1.0</td>\n",
       "    </tr>\n",
       "    <tr>\n",
       "      <th>3</th>\n",
       "      <td>Certified</td>\n",
       "      <td>2019-09-25</td>\n",
       "      <td>2019-10-01</td>\n",
       "      <td>2019-10-07</td>\n",
       "      <td>2022-10-01</td>\n",
       "      <td>H-1B</td>\n",
       "      <td>IT &amp; Software</td>\n",
       "      <td>15-1132</td>\n",
       "      <td>SOFTWARE DEVELOPERS, APPLICATIONS</td>\n",
       "      <td>Y</td>\n",
       "      <td>...</td>\n",
       "      <td>MI</td>\n",
       "      <td>57.69</td>\n",
       "      <td>Hour</td>\n",
       "      <td>53.0</td>\n",
       "      <td>Hour</td>\n",
       "      <td>IV</td>\n",
       "      <td>Yes</td>\n",
       "      <td>No</td>\n",
       "      <td>Yes</td>\n",
       "      <td>1.0</td>\n",
       "    </tr>\n",
       "    <tr>\n",
       "      <th>4</th>\n",
       "      <td>Certified</td>\n",
       "      <td>2019-09-25</td>\n",
       "      <td>2019-10-01</td>\n",
       "      <td>2019-10-09</td>\n",
       "      <td>2022-10-08</td>\n",
       "      <td>H-1B</td>\n",
       "      <td>Engineering</td>\n",
       "      <td>15-1199</td>\n",
       "      <td>COMPUTER OCCUPATIONS, ALL OTHER</td>\n",
       "      <td>Y</td>\n",
       "      <td>...</td>\n",
       "      <td>OH</td>\n",
       "      <td>75000.00</td>\n",
       "      <td>Year</td>\n",
       "      <td>65333.0</td>\n",
       "      <td>Year</td>\n",
       "      <td>II</td>\n",
       "      <td>Yes</td>\n",
       "      <td>No</td>\n",
       "      <td>Yes</td>\n",
       "      <td>1.0</td>\n",
       "    </tr>\n",
       "  </tbody>\n",
       "</table>\n",
       "<p>5 rows × 33 columns</p>\n",
       "</div>"
      ],
      "text/plain": [
       "  CASE_STATUS RECEIVED_DATE DECISION_DATE  BEGIN_DATE    END_DATE VISA_CLASS  \\\n",
       "0   Certified    2019-09-25    2019-10-01  2019-10-07  2022-10-07       H-1B   \n",
       "1   Certified    2019-09-25    2019-10-01  2020-01-08  2023-01-07       H-1B   \n",
       "2   Certified    2019-09-25    2019-10-01  2019-10-03  2022-10-02       H-1B   \n",
       "3   Certified    2019-09-25    2019-10-01  2019-10-07  2022-10-01       H-1B   \n",
       "4   Certified    2019-09-25    2019-10-01  2019-10-09  2022-10-08       H-1B   \n",
       "\n",
       "       JOB_TITLE SOC_CODE                          SOC_TITLE  \\\n",
       "0    Engineering  15-1199    COMPUTER OCCUPATIONS, ALL OTHER   \n",
       "1  IT & Software  15-1132  SOFTWARE DEVELOPERS, APPLICATIONS   \n",
       "2    Engineering  17-2141               MECHANICAL ENGINEERS   \n",
       "3  IT & Software  15-1132  SOFTWARE DEVELOPERS, APPLICATIONS   \n",
       "4    Engineering  15-1199    COMPUTER OCCUPATIONS, ALL OTHER   \n",
       "\n",
       "  FULL_TIME_POSITION  ...  WORKSITE_STATE  WAGE_RATE_OF_PAY_FROM  \\\n",
       "0                  Y  ...              OH              100000.00   \n",
       "1                  Y  ...              TN                  38.57   \n",
       "2                  Y  ...              MI                  43.50   \n",
       "3                  Y  ...              MI                  57.69   \n",
       "4                  Y  ...              OH               75000.00   \n",
       "\n",
       "   WAGE_UNIT_OF_PAY  PREVAILING_WAGE  PW_UNIT_OF_PAY  PW_WAGE_LEVEL  \\\n",
       "0              Year          95118.0            Year             IV   \n",
       "1              Hour             39.0            Hour             II   \n",
       "2              Hour             39.0            Hour             II   \n",
       "3              Hour             53.0            Hour             IV   \n",
       "4              Year          65333.0            Year             II   \n",
       "\n",
       "   H1B_DEPENDENT WILLFUL_VIOLATOR AGREE_TO_LC_STATEMENT  \\\n",
       "0             No               No                   Yes   \n",
       "1            Yes               No                   Yes   \n",
       "2            Yes               No                   Yes   \n",
       "3            Yes               No                   Yes   \n",
       "4            Yes               No                   Yes   \n",
       "\n",
       "  TOTAL_WORKSITE_LOCATIONS  \n",
       "0                      1.0  \n",
       "1                      1.0  \n",
       "2                      1.0  \n",
       "3                      1.0  \n",
       "4                      1.0  \n",
       "\n",
       "[5 rows x 33 columns]"
      ]
     },
     "execution_count": 109,
     "metadata": {},
     "output_type": "execute_result"
    }
   ],
   "source": [
    "df.head()"
   ]
  },
  {
   "cell_type": "code",
   "execution_count": 111,
   "id": "799f2ec6-9f23-4d87-851b-9f4468a494c9",
   "metadata": {},
   "outputs": [
    {
     "data": {
      "text/plain": [
       "(2590760, 33)"
      ]
     },
     "execution_count": 111,
     "metadata": {},
     "output_type": "execute_result"
    }
   ],
   "source": [
    "df.shape"
   ]
  },
  {
   "cell_type": "code",
   "execution_count": 113,
   "id": "97235fa4-daee-4ad4-8395-8b156a7df057",
   "metadata": {},
   "outputs": [
    {
     "name": "stdout",
     "output_type": "stream",
     "text": [
      "<class 'pandas.core.frame.DataFrame'>\n",
      "RangeIndex: 2590760 entries, 0 to 2590759\n",
      "Data columns (total 33 columns):\n",
      " #   Column                      Dtype  \n",
      "---  ------                      -----  \n",
      " 0   CASE_STATUS                 object \n",
      " 1   RECEIVED_DATE               object \n",
      " 2   DECISION_DATE               object \n",
      " 3   BEGIN_DATE                  object \n",
      " 4   END_DATE                    object \n",
      " 5   VISA_CLASS                  object \n",
      " 6   JOB_TITLE                   object \n",
      " 7   SOC_CODE                    object \n",
      " 8   SOC_TITLE                   object \n",
      " 9   FULL_TIME_POSITION          object \n",
      " 10  TOTAL_WORKER_POSITIONS      int64  \n",
      " 11  NEW_EMPLOYMENT              int64  \n",
      " 12  CONTINUED_EMPLOYMENT        int64  \n",
      " 13  CHANGE_PREVIOUS_EMPLOYMENT  int64  \n",
      " 14  CHANGE_EMPLOYER             int64  \n",
      " 15  NEW_CONCURRENT_EMPLOYMENT   int64  \n",
      " 16  AMENDED_PETITION            int64  \n",
      " 17  EMPLOYER_NAME               object \n",
      " 18  EMPLOYER_CITY               object \n",
      " 19  EMPLOYER_STATE              object \n",
      " 20  EMPLOYER_COUNTRY            object \n",
      " 21  NAICS_CODE                  int64  \n",
      " 22  WORKSITE_CITY               object \n",
      " 23  WORKSITE_STATE              object \n",
      " 24  WAGE_RATE_OF_PAY_FROM       float64\n",
      " 25  WAGE_UNIT_OF_PAY            object \n",
      " 26  PREVAILING_WAGE             float64\n",
      " 27  PW_UNIT_OF_PAY              object \n",
      " 28  PW_WAGE_LEVEL               object \n",
      " 29  H1B_DEPENDENT               object \n",
      " 30  WILLFUL_VIOLATOR            object \n",
      " 31  AGREE_TO_LC_STATEMENT       object \n",
      " 32  TOTAL_WORKSITE_LOCATIONS    float64\n",
      "dtypes: float64(3), int64(8), object(22)\n",
      "memory usage: 652.3+ MB\n"
     ]
    }
   ],
   "source": [
    "df.info()"
   ]
  },
  {
   "cell_type": "code",
   "execution_count": 115,
   "id": "57bcd2d9-099f-4055-9630-bf1e192d8431",
   "metadata": {},
   "outputs": [],
   "source": [
    "# Convert object columns to datetime\n",
    "date_cols = ['RECEIVED_DATE','DECISION_DATE', 'BEGIN_DATE', 'END_DATE']\n",
    "\n",
    "for col in date_cols:\n",
    "    df[col] = pd.to_datetime(df[col], errors='coerce')\n"
   ]
  },
  {
   "cell_type": "code",
   "execution_count": 116,
   "id": "76ab61c5-a01a-4c14-bd61-d7e5ef47fc2b",
   "metadata": {},
   "outputs": [],
   "source": [
    "# Keep only H-1B cases for modeling\n",
    "df = df[df['VISA_CLASS'] == 'H-1B']\n"
   ]
  },
  {
   "cell_type": "code",
   "execution_count": 117,
   "id": "01865c94-9843-43cd-86f0-b2d35112e740",
   "metadata": {},
   "outputs": [
    {
     "data": {
      "text/html": [
       "<div>\n",
       "<style scoped>\n",
       "    .dataframe tbody tr th:only-of-type {\n",
       "        vertical-align: middle;\n",
       "    }\n",
       "\n",
       "    .dataframe tbody tr th {\n",
       "        vertical-align: top;\n",
       "    }\n",
       "\n",
       "    .dataframe thead th {\n",
       "        text-align: right;\n",
       "    }\n",
       "</style>\n",
       "<table border=\"1\" class=\"dataframe\">\n",
       "  <thead>\n",
       "    <tr style=\"text-align: right;\">\n",
       "      <th></th>\n",
       "      <th>CASE_STATUS</th>\n",
       "      <th>RECEIVED_DATE</th>\n",
       "      <th>DECISION_DATE</th>\n",
       "      <th>BEGIN_DATE</th>\n",
       "      <th>END_DATE</th>\n",
       "      <th>VISA_CLASS</th>\n",
       "      <th>JOB_TITLE</th>\n",
       "      <th>SOC_CODE</th>\n",
       "      <th>SOC_TITLE</th>\n",
       "      <th>FULL_TIME_POSITION</th>\n",
       "      <th>...</th>\n",
       "      <th>WORKSITE_STATE</th>\n",
       "      <th>WAGE_RATE_OF_PAY_FROM</th>\n",
       "      <th>WAGE_UNIT_OF_PAY</th>\n",
       "      <th>PREVAILING_WAGE</th>\n",
       "      <th>PW_UNIT_OF_PAY</th>\n",
       "      <th>PW_WAGE_LEVEL</th>\n",
       "      <th>H1B_DEPENDENT</th>\n",
       "      <th>WILLFUL_VIOLATOR</th>\n",
       "      <th>AGREE_TO_LC_STATEMENT</th>\n",
       "      <th>TOTAL_WORKSITE_LOCATIONS</th>\n",
       "    </tr>\n",
       "  </thead>\n",
       "  <tbody>\n",
       "    <tr>\n",
       "      <th>0</th>\n",
       "      <td>Certified</td>\n",
       "      <td>2019-09-25</td>\n",
       "      <td>2019-10-01</td>\n",
       "      <td>2019-10-07</td>\n",
       "      <td>2022-10-07</td>\n",
       "      <td>H-1B</td>\n",
       "      <td>Engineering</td>\n",
       "      <td>15-1199</td>\n",
       "      <td>COMPUTER OCCUPATIONS, ALL OTHER</td>\n",
       "      <td>Y</td>\n",
       "      <td>...</td>\n",
       "      <td>OH</td>\n",
       "      <td>100000.00</td>\n",
       "      <td>Year</td>\n",
       "      <td>95118.0</td>\n",
       "      <td>Year</td>\n",
       "      <td>IV</td>\n",
       "      <td>No</td>\n",
       "      <td>No</td>\n",
       "      <td>Yes</td>\n",
       "      <td>1.0</td>\n",
       "    </tr>\n",
       "    <tr>\n",
       "      <th>1</th>\n",
       "      <td>Certified</td>\n",
       "      <td>2019-09-25</td>\n",
       "      <td>2019-10-01</td>\n",
       "      <td>2020-01-08</td>\n",
       "      <td>2023-01-07</td>\n",
       "      <td>H-1B</td>\n",
       "      <td>IT &amp; Software</td>\n",
       "      <td>15-1132</td>\n",
       "      <td>SOFTWARE DEVELOPERS, APPLICATIONS</td>\n",
       "      <td>Y</td>\n",
       "      <td>...</td>\n",
       "      <td>TN</td>\n",
       "      <td>38.57</td>\n",
       "      <td>Hour</td>\n",
       "      <td>39.0</td>\n",
       "      <td>Hour</td>\n",
       "      <td>II</td>\n",
       "      <td>Yes</td>\n",
       "      <td>No</td>\n",
       "      <td>Yes</td>\n",
       "      <td>1.0</td>\n",
       "    </tr>\n",
       "    <tr>\n",
       "      <th>2</th>\n",
       "      <td>Certified</td>\n",
       "      <td>2019-09-25</td>\n",
       "      <td>2019-10-01</td>\n",
       "      <td>2019-10-03</td>\n",
       "      <td>2022-10-02</td>\n",
       "      <td>H-1B</td>\n",
       "      <td>Engineering</td>\n",
       "      <td>17-2141</td>\n",
       "      <td>MECHANICAL ENGINEERS</td>\n",
       "      <td>Y</td>\n",
       "      <td>...</td>\n",
       "      <td>MI</td>\n",
       "      <td>43.50</td>\n",
       "      <td>Hour</td>\n",
       "      <td>39.0</td>\n",
       "      <td>Hour</td>\n",
       "      <td>II</td>\n",
       "      <td>Yes</td>\n",
       "      <td>No</td>\n",
       "      <td>Yes</td>\n",
       "      <td>1.0</td>\n",
       "    </tr>\n",
       "    <tr>\n",
       "      <th>3</th>\n",
       "      <td>Certified</td>\n",
       "      <td>2019-09-25</td>\n",
       "      <td>2019-10-01</td>\n",
       "      <td>2019-10-07</td>\n",
       "      <td>2022-10-01</td>\n",
       "      <td>H-1B</td>\n",
       "      <td>IT &amp; Software</td>\n",
       "      <td>15-1132</td>\n",
       "      <td>SOFTWARE DEVELOPERS, APPLICATIONS</td>\n",
       "      <td>Y</td>\n",
       "      <td>...</td>\n",
       "      <td>MI</td>\n",
       "      <td>57.69</td>\n",
       "      <td>Hour</td>\n",
       "      <td>53.0</td>\n",
       "      <td>Hour</td>\n",
       "      <td>IV</td>\n",
       "      <td>Yes</td>\n",
       "      <td>No</td>\n",
       "      <td>Yes</td>\n",
       "      <td>1.0</td>\n",
       "    </tr>\n",
       "    <tr>\n",
       "      <th>4</th>\n",
       "      <td>Certified</td>\n",
       "      <td>2019-09-25</td>\n",
       "      <td>2019-10-01</td>\n",
       "      <td>2019-10-09</td>\n",
       "      <td>2022-10-08</td>\n",
       "      <td>H-1B</td>\n",
       "      <td>Engineering</td>\n",
       "      <td>15-1199</td>\n",
       "      <td>COMPUTER OCCUPATIONS, ALL OTHER</td>\n",
       "      <td>Y</td>\n",
       "      <td>...</td>\n",
       "      <td>OH</td>\n",
       "      <td>75000.00</td>\n",
       "      <td>Year</td>\n",
       "      <td>65333.0</td>\n",
       "      <td>Year</td>\n",
       "      <td>II</td>\n",
       "      <td>Yes</td>\n",
       "      <td>No</td>\n",
       "      <td>Yes</td>\n",
       "      <td>1.0</td>\n",
       "    </tr>\n",
       "    <tr>\n",
       "      <th>...</th>\n",
       "      <td>...</td>\n",
       "      <td>...</td>\n",
       "      <td>...</td>\n",
       "      <td>...</td>\n",
       "      <td>...</td>\n",
       "      <td>...</td>\n",
       "      <td>...</td>\n",
       "      <td>...</td>\n",
       "      <td>...</td>\n",
       "      <td>...</td>\n",
       "      <td>...</td>\n",
       "      <td>...</td>\n",
       "      <td>...</td>\n",
       "      <td>...</td>\n",
       "      <td>...</td>\n",
       "      <td>...</td>\n",
       "      <td>...</td>\n",
       "      <td>...</td>\n",
       "      <td>...</td>\n",
       "      <td>...</td>\n",
       "      <td>...</td>\n",
       "    </tr>\n",
       "    <tr>\n",
       "      <th>2590755</th>\n",
       "      <td>Certified - Withdrawn</td>\n",
       "      <td>2023-10-19</td>\n",
       "      <td>2024-07-01</td>\n",
       "      <td>2023-10-30</td>\n",
       "      <td>2026-10-29</td>\n",
       "      <td>H-1B</td>\n",
       "      <td>Engineering</td>\n",
       "      <td>15-1299.08</td>\n",
       "      <td>Computer Systems Engineers/Architects</td>\n",
       "      <td>Y</td>\n",
       "      <td>...</td>\n",
       "      <td>CA</td>\n",
       "      <td>132000.00</td>\n",
       "      <td>Year</td>\n",
       "      <td>131144.0</td>\n",
       "      <td>Year</td>\n",
       "      <td>II</td>\n",
       "      <td>No</td>\n",
       "      <td>No</td>\n",
       "      <td>Yes</td>\n",
       "      <td>2.0</td>\n",
       "    </tr>\n",
       "    <tr>\n",
       "      <th>2590756</th>\n",
       "      <td>Certified</td>\n",
       "      <td>2024-06-24</td>\n",
       "      <td>2024-07-01</td>\n",
       "      <td>2024-08-26</td>\n",
       "      <td>2027-08-25</td>\n",
       "      <td>H-1B</td>\n",
       "      <td>Engineering</td>\n",
       "      <td>17-2072.00</td>\n",
       "      <td>Electronics Engineers, Except Computer</td>\n",
       "      <td>Y</td>\n",
       "      <td>...</td>\n",
       "      <td>MI</td>\n",
       "      <td>126000.00</td>\n",
       "      <td>Year</td>\n",
       "      <td>91478.0</td>\n",
       "      <td>Year</td>\n",
       "      <td>II</td>\n",
       "      <td>No</td>\n",
       "      <td>No</td>\n",
       "      <td>Yes</td>\n",
       "      <td>2.0</td>\n",
       "    </tr>\n",
       "    <tr>\n",
       "      <th>2590757</th>\n",
       "      <td>Certified</td>\n",
       "      <td>2024-06-24</td>\n",
       "      <td>2024-07-01</td>\n",
       "      <td>2024-07-02</td>\n",
       "      <td>2027-07-01</td>\n",
       "      <td>H-1B</td>\n",
       "      <td>Engineering</td>\n",
       "      <td>15-1299.08</td>\n",
       "      <td>Computer Systems Engineers/Architects</td>\n",
       "      <td>Y</td>\n",
       "      <td>...</td>\n",
       "      <td>NC</td>\n",
       "      <td>97406.00</td>\n",
       "      <td>Year</td>\n",
       "      <td>97406.0</td>\n",
       "      <td>Year</td>\n",
       "      <td>III</td>\n",
       "      <td>Yes</td>\n",
       "      <td>No</td>\n",
       "      <td>Yes</td>\n",
       "      <td>1.0</td>\n",
       "    </tr>\n",
       "    <tr>\n",
       "      <th>2590758</th>\n",
       "      <td>Certified</td>\n",
       "      <td>2024-06-24</td>\n",
       "      <td>2024-07-01</td>\n",
       "      <td>2024-10-01</td>\n",
       "      <td>2027-09-30</td>\n",
       "      <td>H-1B</td>\n",
       "      <td>IT &amp; Software</td>\n",
       "      <td>15-2051.01</td>\n",
       "      <td>Business Intelligence Analysts</td>\n",
       "      <td>Y</td>\n",
       "      <td>...</td>\n",
       "      <td>CO</td>\n",
       "      <td>124630.00</td>\n",
       "      <td>Year</td>\n",
       "      <td>92560.0</td>\n",
       "      <td>Year</td>\n",
       "      <td>II</td>\n",
       "      <td>No</td>\n",
       "      <td>No</td>\n",
       "      <td>Yes</td>\n",
       "      <td>1.0</td>\n",
       "    </tr>\n",
       "    <tr>\n",
       "      <th>2590759</th>\n",
       "      <td>Certified</td>\n",
       "      <td>2024-06-24</td>\n",
       "      <td>2024-07-01</td>\n",
       "      <td>2024-12-22</td>\n",
       "      <td>2027-12-21</td>\n",
       "      <td>H-1B</td>\n",
       "      <td>Engineering</td>\n",
       "      <td>15-1252.00</td>\n",
       "      <td>Software Developers</td>\n",
       "      <td>Y</td>\n",
       "      <td>...</td>\n",
       "      <td>CA</td>\n",
       "      <td>150502.00</td>\n",
       "      <td>Year</td>\n",
       "      <td>150502.0</td>\n",
       "      <td>Year</td>\n",
       "      <td>II</td>\n",
       "      <td>No</td>\n",
       "      <td>No</td>\n",
       "      <td>Yes</td>\n",
       "      <td>2.0</td>\n",
       "    </tr>\n",
       "  </tbody>\n",
       "</table>\n",
       "<p>2525674 rows × 33 columns</p>\n",
       "</div>"
      ],
      "text/plain": [
       "                   CASE_STATUS RECEIVED_DATE DECISION_DATE BEGIN_DATE  \\\n",
       "0                    Certified    2019-09-25    2019-10-01 2019-10-07   \n",
       "1                    Certified    2019-09-25    2019-10-01 2020-01-08   \n",
       "2                    Certified    2019-09-25    2019-10-01 2019-10-03   \n",
       "3                    Certified    2019-09-25    2019-10-01 2019-10-07   \n",
       "4                    Certified    2019-09-25    2019-10-01 2019-10-09   \n",
       "...                        ...           ...           ...        ...   \n",
       "2590755  Certified - Withdrawn    2023-10-19    2024-07-01 2023-10-30   \n",
       "2590756              Certified    2024-06-24    2024-07-01 2024-08-26   \n",
       "2590757              Certified    2024-06-24    2024-07-01 2024-07-02   \n",
       "2590758              Certified    2024-06-24    2024-07-01 2024-10-01   \n",
       "2590759              Certified    2024-06-24    2024-07-01 2024-12-22   \n",
       "\n",
       "          END_DATE VISA_CLASS      JOB_TITLE    SOC_CODE  \\\n",
       "0       2022-10-07       H-1B    Engineering     15-1199   \n",
       "1       2023-01-07       H-1B  IT & Software     15-1132   \n",
       "2       2022-10-02       H-1B    Engineering     17-2141   \n",
       "3       2022-10-01       H-1B  IT & Software     15-1132   \n",
       "4       2022-10-08       H-1B    Engineering     15-1199   \n",
       "...            ...        ...            ...         ...   \n",
       "2590755 2026-10-29       H-1B    Engineering  15-1299.08   \n",
       "2590756 2027-08-25       H-1B    Engineering  17-2072.00   \n",
       "2590757 2027-07-01       H-1B    Engineering  15-1299.08   \n",
       "2590758 2027-09-30       H-1B  IT & Software  15-2051.01   \n",
       "2590759 2027-12-21       H-1B    Engineering  15-1252.00   \n",
       "\n",
       "                                      SOC_TITLE FULL_TIME_POSITION  ...  \\\n",
       "0               COMPUTER OCCUPATIONS, ALL OTHER                  Y  ...   \n",
       "1             SOFTWARE DEVELOPERS, APPLICATIONS                  Y  ...   \n",
       "2                          MECHANICAL ENGINEERS                  Y  ...   \n",
       "3             SOFTWARE DEVELOPERS, APPLICATIONS                  Y  ...   \n",
       "4               COMPUTER OCCUPATIONS, ALL OTHER                  Y  ...   \n",
       "...                                         ...                ...  ...   \n",
       "2590755   Computer Systems Engineers/Architects                  Y  ...   \n",
       "2590756  Electronics Engineers, Except Computer                  Y  ...   \n",
       "2590757   Computer Systems Engineers/Architects                  Y  ...   \n",
       "2590758          Business Intelligence Analysts                  Y  ...   \n",
       "2590759                     Software Developers                  Y  ...   \n",
       "\n",
       "         WORKSITE_STATE  WAGE_RATE_OF_PAY_FROM  WAGE_UNIT_OF_PAY  \\\n",
       "0                    OH              100000.00              Year   \n",
       "1                    TN                  38.57              Hour   \n",
       "2                    MI                  43.50              Hour   \n",
       "3                    MI                  57.69              Hour   \n",
       "4                    OH               75000.00              Year   \n",
       "...                 ...                    ...               ...   \n",
       "2590755              CA              132000.00              Year   \n",
       "2590756              MI              126000.00              Year   \n",
       "2590757              NC               97406.00              Year   \n",
       "2590758              CO              124630.00              Year   \n",
       "2590759              CA              150502.00              Year   \n",
       "\n",
       "         PREVAILING_WAGE  PW_UNIT_OF_PAY  PW_WAGE_LEVEL  H1B_DEPENDENT  \\\n",
       "0                95118.0            Year             IV             No   \n",
       "1                   39.0            Hour             II            Yes   \n",
       "2                   39.0            Hour             II            Yes   \n",
       "3                   53.0            Hour             IV            Yes   \n",
       "4                65333.0            Year             II            Yes   \n",
       "...                  ...             ...            ...            ...   \n",
       "2590755         131144.0            Year             II             No   \n",
       "2590756          91478.0            Year             II             No   \n",
       "2590757          97406.0            Year            III            Yes   \n",
       "2590758          92560.0            Year             II             No   \n",
       "2590759         150502.0            Year             II             No   \n",
       "\n",
       "        WILLFUL_VIOLATOR AGREE_TO_LC_STATEMENT TOTAL_WORKSITE_LOCATIONS  \n",
       "0                     No                   Yes                      1.0  \n",
       "1                     No                   Yes                      1.0  \n",
       "2                     No                   Yes                      1.0  \n",
       "3                     No                   Yes                      1.0  \n",
       "4                     No                   Yes                      1.0  \n",
       "...                  ...                   ...                      ...  \n",
       "2590755               No                   Yes                      2.0  \n",
       "2590756               No                   Yes                      2.0  \n",
       "2590757               No                   Yes                      1.0  \n",
       "2590758               No                   Yes                      1.0  \n",
       "2590759               No                   Yes                      2.0  \n",
       "\n",
       "[2525674 rows x 33 columns]"
      ]
     },
     "execution_count": 117,
     "metadata": {},
     "output_type": "execute_result"
    }
   ],
   "source": [
    "df"
   ]
  },
  {
   "cell_type": "code",
   "execution_count": 118,
   "id": "27328fba-3c80-4f8a-9248-a854531848df",
   "metadata": {},
   "outputs": [],
   "source": [
    "df.drop('VISA_CLASS',axis=1,inplace=True)"
   ]
  },
  {
   "cell_type": "code",
   "execution_count": 119,
   "id": "12ba75d7-5d69-445e-9b21-e3c03621ecfc",
   "metadata": {},
   "outputs": [
    {
     "data": {
      "text/plain": [
       "(2525674, 32)"
      ]
     },
     "execution_count": 119,
     "metadata": {},
     "output_type": "execute_result"
    }
   ],
   "source": [
    "df.shape"
   ]
  },
  {
   "cell_type": "code",
   "execution_count": 120,
   "id": "d052f04c-c904-4f44-afa3-0f8e8979c9d2",
   "metadata": {},
   "outputs": [
    {
     "data": {
      "text/html": [
       "<div>\n",
       "<style scoped>\n",
       "    .dataframe tbody tr th:only-of-type {\n",
       "        vertical-align: middle;\n",
       "    }\n",
       "\n",
       "    .dataframe tbody tr th {\n",
       "        vertical-align: top;\n",
       "    }\n",
       "\n",
       "    .dataframe thead th {\n",
       "        text-align: right;\n",
       "    }\n",
       "</style>\n",
       "<table border=\"1\" class=\"dataframe\">\n",
       "  <thead>\n",
       "    <tr style=\"text-align: right;\">\n",
       "      <th></th>\n",
       "      <th>RECEIVED_DATE</th>\n",
       "      <th>DECISION_DATE</th>\n",
       "      <th>BEGIN_DATE</th>\n",
       "      <th>END_DATE</th>\n",
       "      <th>TOTAL_WORKER_POSITIONS</th>\n",
       "      <th>NEW_EMPLOYMENT</th>\n",
       "      <th>CONTINUED_EMPLOYMENT</th>\n",
       "      <th>CHANGE_PREVIOUS_EMPLOYMENT</th>\n",
       "      <th>CHANGE_EMPLOYER</th>\n",
       "      <th>NEW_CONCURRENT_EMPLOYMENT</th>\n",
       "      <th>AMENDED_PETITION</th>\n",
       "      <th>NAICS_CODE</th>\n",
       "      <th>WAGE_RATE_OF_PAY_FROM</th>\n",
       "      <th>PREVAILING_WAGE</th>\n",
       "      <th>TOTAL_WORKSITE_LOCATIONS</th>\n",
       "    </tr>\n",
       "  </thead>\n",
       "  <tbody>\n",
       "    <tr>\n",
       "      <th>count</th>\n",
       "      <td>2525674</td>\n",
       "      <td>2525674</td>\n",
       "      <td>2525674</td>\n",
       "      <td>2525674</td>\n",
       "      <td>2.525674e+06</td>\n",
       "      <td>2.525674e+06</td>\n",
       "      <td>2.525674e+06</td>\n",
       "      <td>2.525674e+06</td>\n",
       "      <td>2.525674e+06</td>\n",
       "      <td>2.525674e+06</td>\n",
       "      <td>2.525674e+06</td>\n",
       "      <td>2.525674e+06</td>\n",
       "      <td>2.525674e+06</td>\n",
       "      <td>2.525674e+06</td>\n",
       "      <td>2.525674e+06</td>\n",
       "    </tr>\n",
       "    <tr>\n",
       "      <th>mean</th>\n",
       "      <td>2021-11-10 13:54:19.047684608</td>\n",
       "      <td>2021-11-30 21:27:43.371915008</td>\n",
       "      <td>2022-01-24 00:49:00.031688960</td>\n",
       "      <td>2024-12-29 14:24:11.651480320</td>\n",
       "      <td>1.786056e+00</td>\n",
       "      <td>6.417075e-01</td>\n",
       "      <td>3.703154e-01</td>\n",
       "      <td>1.536271e-01</td>\n",
       "      <td>3.144634e-01</td>\n",
       "      <td>9.618819e-03</td>\n",
       "      <td>2.999686e-01</td>\n",
       "      <td>4.240418e+05</td>\n",
       "      <td>1.097105e+05</td>\n",
       "      <td>9.458669e+04</td>\n",
       "      <td>1.437892e+00</td>\n",
       "    </tr>\n",
       "    <tr>\n",
       "      <th>min</th>\n",
       "      <td>2016-04-27 00:00:00</td>\n",
       "      <td>2019-10-01 00:00:00</td>\n",
       "      <td>2016-09-30 00:00:00</td>\n",
       "      <td>2017-10-05 00:00:00</td>\n",
       "      <td>1.000000e+00</td>\n",
       "      <td>0.000000e+00</td>\n",
       "      <td>0.000000e+00</td>\n",
       "      <td>0.000000e+00</td>\n",
       "      <td>0.000000e+00</td>\n",
       "      <td>0.000000e+00</td>\n",
       "      <td>0.000000e+00</td>\n",
       "      <td>-2.710210e+05</td>\n",
       "      <td>7.250000e+00</td>\n",
       "      <td>7.250000e+00</td>\n",
       "      <td>1.000000e+00</td>\n",
       "    </tr>\n",
       "    <tr>\n",
       "      <th>25%</th>\n",
       "      <td>2020-10-07 00:00:00</td>\n",
       "      <td>2020-10-19 00:00:00</td>\n",
       "      <td>2020-11-16 00:00:00</td>\n",
       "      <td>2023-10-14 00:00:00</td>\n",
       "      <td>1.000000e+00</td>\n",
       "      <td>0.000000e+00</td>\n",
       "      <td>0.000000e+00</td>\n",
       "      <td>0.000000e+00</td>\n",
       "      <td>0.000000e+00</td>\n",
       "      <td>0.000000e+00</td>\n",
       "      <td>0.000000e+00</td>\n",
       "      <td>3.344130e+05</td>\n",
       "      <td>8.000000e+04</td>\n",
       "      <td>7.402700e+04</td>\n",
       "      <td>1.000000e+00</td>\n",
       "    </tr>\n",
       "    <tr>\n",
       "      <th>50%</th>\n",
       "      <td>2021-06-18 00:00:00</td>\n",
       "      <td>2021-07-14 00:00:00</td>\n",
       "      <td>2021-09-27 00:00:00</td>\n",
       "      <td>2024-09-12 00:00:00</td>\n",
       "      <td>1.000000e+00</td>\n",
       "      <td>0.000000e+00</td>\n",
       "      <td>0.000000e+00</td>\n",
       "      <td>0.000000e+00</td>\n",
       "      <td>0.000000e+00</td>\n",
       "      <td>0.000000e+00</td>\n",
       "      <td>0.000000e+00</td>\n",
       "      <td>5.415110e+05</td>\n",
       "      <td>1.018780e+05</td>\n",
       "      <td>9.353800e+04</td>\n",
       "      <td>1.000000e+00</td>\n",
       "    </tr>\n",
       "    <tr>\n",
       "      <th>75%</th>\n",
       "      <td>2022-06-30 00:00:00</td>\n",
       "      <td>2022-07-25 00:00:00</td>\n",
       "      <td>2022-10-01 00:00:00</td>\n",
       "      <td>2025-09-30 00:00:00</td>\n",
       "      <td>1.000000e+00</td>\n",
       "      <td>1.000000e+00</td>\n",
       "      <td>1.000000e+00</td>\n",
       "      <td>0.000000e+00</td>\n",
       "      <td>0.000000e+00</td>\n",
       "      <td>0.000000e+00</td>\n",
       "      <td>0.000000e+00</td>\n",
       "      <td>5.415120e+05</td>\n",
       "      <td>1.350000e+05</td>\n",
       "      <td>1.169380e+05</td>\n",
       "      <td>2.000000e+00</td>\n",
       "    </tr>\n",
       "    <tr>\n",
       "      <th>max</th>\n",
       "      <td>2024-09-30 00:00:00</td>\n",
       "      <td>2024-09-30 00:00:00</td>\n",
       "      <td>2025-04-01 00:00:00</td>\n",
       "      <td>2028-03-31 00:00:00</td>\n",
       "      <td>4.500000e+02</td>\n",
       "      <td>4.500000e+02</td>\n",
       "      <td>2.000000e+02</td>\n",
       "      <td>1.000000e+02</td>\n",
       "      <td>2.750000e+02</td>\n",
       "      <td>1.700000e+02</td>\n",
       "      <td>3.000000e+02</td>\n",
       "      <td>5.698555e+06</td>\n",
       "      <td>1.204781e+09</td>\n",
       "      <td>8.108500e+05</td>\n",
       "      <td>1.000000e+01</td>\n",
       "    </tr>\n",
       "    <tr>\n",
       "      <th>std</th>\n",
       "      <td>NaN</td>\n",
       "      <td>NaN</td>\n",
       "      <td>NaN</td>\n",
       "      <td>NaN</td>\n",
       "      <td>6.061530e+00</td>\n",
       "      <td>3.812748e+00</td>\n",
       "      <td>2.643438e+00</td>\n",
       "      <td>1.257956e+00</td>\n",
       "      <td>1.659706e+00</td>\n",
       "      <td>2.011266e-01</td>\n",
       "      <td>1.414271e+00</td>\n",
       "      <td>2.086250e+05</td>\n",
       "      <td>7.715320e+05</td>\n",
       "      <td>4.059678e+04</td>\n",
       "      <td>6.986435e-01</td>\n",
       "    </tr>\n",
       "  </tbody>\n",
       "</table>\n",
       "</div>"
      ],
      "text/plain": [
       "                       RECEIVED_DATE                  DECISION_DATE  \\\n",
       "count                        2525674                        2525674   \n",
       "mean   2021-11-10 13:54:19.047684608  2021-11-30 21:27:43.371915008   \n",
       "min              2016-04-27 00:00:00            2019-10-01 00:00:00   \n",
       "25%              2020-10-07 00:00:00            2020-10-19 00:00:00   \n",
       "50%              2021-06-18 00:00:00            2021-07-14 00:00:00   \n",
       "75%              2022-06-30 00:00:00            2022-07-25 00:00:00   \n",
       "max              2024-09-30 00:00:00            2024-09-30 00:00:00   \n",
       "std                              NaN                            NaN   \n",
       "\n",
       "                          BEGIN_DATE                       END_DATE  \\\n",
       "count                        2525674                        2525674   \n",
       "mean   2022-01-24 00:49:00.031688960  2024-12-29 14:24:11.651480320   \n",
       "min              2016-09-30 00:00:00            2017-10-05 00:00:00   \n",
       "25%              2020-11-16 00:00:00            2023-10-14 00:00:00   \n",
       "50%              2021-09-27 00:00:00            2024-09-12 00:00:00   \n",
       "75%              2022-10-01 00:00:00            2025-09-30 00:00:00   \n",
       "max              2025-04-01 00:00:00            2028-03-31 00:00:00   \n",
       "std                              NaN                            NaN   \n",
       "\n",
       "       TOTAL_WORKER_POSITIONS  NEW_EMPLOYMENT  CONTINUED_EMPLOYMENT  \\\n",
       "count            2.525674e+06    2.525674e+06          2.525674e+06   \n",
       "mean             1.786056e+00    6.417075e-01          3.703154e-01   \n",
       "min              1.000000e+00    0.000000e+00          0.000000e+00   \n",
       "25%              1.000000e+00    0.000000e+00          0.000000e+00   \n",
       "50%              1.000000e+00    0.000000e+00          0.000000e+00   \n",
       "75%              1.000000e+00    1.000000e+00          1.000000e+00   \n",
       "max              4.500000e+02    4.500000e+02          2.000000e+02   \n",
       "std              6.061530e+00    3.812748e+00          2.643438e+00   \n",
       "\n",
       "       CHANGE_PREVIOUS_EMPLOYMENT  CHANGE_EMPLOYER  NEW_CONCURRENT_EMPLOYMENT  \\\n",
       "count                2.525674e+06     2.525674e+06               2.525674e+06   \n",
       "mean                 1.536271e-01     3.144634e-01               9.618819e-03   \n",
       "min                  0.000000e+00     0.000000e+00               0.000000e+00   \n",
       "25%                  0.000000e+00     0.000000e+00               0.000000e+00   \n",
       "50%                  0.000000e+00     0.000000e+00               0.000000e+00   \n",
       "75%                  0.000000e+00     0.000000e+00               0.000000e+00   \n",
       "max                  1.000000e+02     2.750000e+02               1.700000e+02   \n",
       "std                  1.257956e+00     1.659706e+00               2.011266e-01   \n",
       "\n",
       "       AMENDED_PETITION    NAICS_CODE  WAGE_RATE_OF_PAY_FROM  PREVAILING_WAGE  \\\n",
       "count      2.525674e+06  2.525674e+06           2.525674e+06     2.525674e+06   \n",
       "mean       2.999686e-01  4.240418e+05           1.097105e+05     9.458669e+04   \n",
       "min        0.000000e+00 -2.710210e+05           7.250000e+00     7.250000e+00   \n",
       "25%        0.000000e+00  3.344130e+05           8.000000e+04     7.402700e+04   \n",
       "50%        0.000000e+00  5.415110e+05           1.018780e+05     9.353800e+04   \n",
       "75%        0.000000e+00  5.415120e+05           1.350000e+05     1.169380e+05   \n",
       "max        3.000000e+02  5.698555e+06           1.204781e+09     8.108500e+05   \n",
       "std        1.414271e+00  2.086250e+05           7.715320e+05     4.059678e+04   \n",
       "\n",
       "       TOTAL_WORKSITE_LOCATIONS  \n",
       "count              2.525674e+06  \n",
       "mean               1.437892e+00  \n",
       "min                1.000000e+00  \n",
       "25%                1.000000e+00  \n",
       "50%                1.000000e+00  \n",
       "75%                2.000000e+00  \n",
       "max                1.000000e+01  \n",
       "std                6.986435e-01  "
      ]
     },
     "execution_count": 120,
     "metadata": {},
     "output_type": "execute_result"
    }
   ],
   "source": [
    "df.describe()"
   ]
  },
  {
   "cell_type": "code",
   "execution_count": 121,
   "id": "766b0e0a-85b8-4155-97ff-2f4047ce612b",
   "metadata": {},
   "outputs": [
    {
     "data": {
      "text/plain": [
       "CASE_STATUS\n",
       "Certified                2350706\n",
       "Certified - Withdrawn     115043\n",
       "Withdrawn                  46079\n",
       "Denied                     13846\n",
       "Name: count, dtype: int64"
      ]
     },
     "execution_count": 121,
     "metadata": {},
     "output_type": "execute_result"
    }
   ],
   "source": [
    "df['CASE_STATUS'].value_counts()"
   ]
  },
  {
   "cell_type": "code",
   "execution_count": 122,
   "id": "7152e86a-a6c1-4422-946e-2ab22bea150a",
   "metadata": {},
   "outputs": [
    {
     "data": {
      "text/plain": [
       "<Axes: xlabel='CASE_STATUS', ylabel='Count'>"
      ]
     },
     "execution_count": 122,
     "metadata": {},
     "output_type": "execute_result"
    },
    {
     "data": {
      "image/png": "[encoded data removed]",
      "text/plain": [
       "<Figure size 640x480 with 1 Axes>"
      ]
     },
     "metadata": {},
     "output_type": "display_data"
    }
   ],
   "source": [
    "sns.histplot(df['CASE_STATUS'])"
   ]
  },
  {
   "cell_type": "code",
   "execution_count": 123,
   "id": "24813d35-cbaf-44b0-b540-ca68b88e0e57",
   "metadata": {},
   "outputs": [
    {
     "data": {
      "text/plain": [
       "JOB_TITLE\n",
       "Engineering             1020838\n",
       "IT & Software            815635\n",
       "Management               271085\n",
       "Other                    123053\n",
       "Healthcare               111200\n",
       "Research & Science        73791\n",
       "Education                 63195\n",
       "Finance & Accounting      34111\n",
       "Marketing & Sales          8306\n",
       "Legal                      4460\n",
       "Name: count, dtype: int64"
      ]
     },
     "execution_count": 123,
     "metadata": {},
     "output_type": "execute_result"
    }
   ],
   "source": [
    "df['JOB_TITLE'].value_counts()"
   ]
  },
  {
   "cell_type": "code",
   "execution_count": 124,
   "id": "dffb5b40-d196-4259-b3a5-c62404285002",
   "metadata": {},
   "outputs": [
    {
     "data": {
      "text/plain": [
       "SOC_TITLE\n",
       "Software Developers, Applications                                618196\n",
       "Software Developers                                              207444\n",
       "Computer Systems Analysts                                        147919\n",
       "Software Developers, Systems Software                            115110\n",
       "Computer Systems Engineers/Architects                            100265\n",
       "                                                                  ...  \n",
       "COMPUTER, OCCUPATIONS, ALL OTHER                                      1\n",
       "Software Devleopers, Applications                                     1\n",
       "Electronics Engineers, except computers                               1\n",
       "Janitors and Cleaners, Except Maids and Housekeeping Cleaners         1\n",
       "Maintenance Workers, Machinery                                        1\n",
       "Name: count, Length: 1777, dtype: int64"
      ]
     },
     "execution_count": 124,
     "metadata": {},
     "output_type": "execute_result"
    }
   ],
   "source": [
    "df['SOC_TITLE'].value_counts()"
   ]
  },
  {
   "cell_type": "code",
   "execution_count": 125,
   "id": "7f17aba8-c106-403b-9da1-9359235cc43c",
   "metadata": {},
   "outputs": [],
   "source": [
    "def map_soc_title(title):\n",
    "    title = title.lower()\n",
    "    if \"developer\" in title or \"software\" in title:\n",
    "        return \"Software Development\"\n",
    "    elif \"analyst\" in title or \"scientist\" in title:\n",
    "        return \"Data & Analytics\"\n",
    "    elif \"engineer\" in title:\n",
    "        return \"Engineering\"\n",
    "    elif \"accountant\" in title or \"financial\" in title:\n",
    "        return \"Finance & Accounting\"\n",
    "    elif \"manager\" in title or \"executive\" in title:\n",
    "        return \"Management\"\n",
    "    elif \"teacher\" in title or \"professor\" in title:\n",
    "        return \"Education\"\n",
    "    elif \"architect\" in title:\n",
    "        return \"Architecture\"\n",
    "    elif \"lawyer\" in title or \"physician\" in title or \"dentist\" in title:\n",
    "        return \"Healthcare & Legal\"\n",
    "    else:\n",
    "        return \"Other\"\n",
    "\n",
    "df['SOC_TITLE']=df['SOC_TITLE'].apply(map_soc_title)"
   ]
  },
  {
   "cell_type": "code",
   "execution_count": 126,
   "id": "a1c49963-9099-4eb2-8b36-dc33335a454b",
   "metadata": {},
   "outputs": [
    {
     "data": {
      "text/plain": [
       "SOC_TITLE\n",
       "Software Development    1024790\n",
       "Data & Analytics         446419\n",
       "Other                    371828\n",
       "Engineering              342701\n",
       "Management               163060\n",
       "Education                 64037\n",
       "Finance & Accounting      49339\n",
       "Healthcare & Legal        33382\n",
       "Architecture              30118\n",
       "Name: count, dtype: int64"
      ]
     },
     "execution_count": 126,
     "metadata": {},
     "output_type": "execute_result"
    }
   ],
   "source": [
    "df['SOC_TITLE'].value_counts()"
   ]
  },
  {
   "cell_type": "code",
   "execution_count": 127,
   "id": "0e287de4-f6f3-46ba-bdfe-fe835065627f",
   "metadata": {},
   "outputs": [
    {
     "data": {
      "image/png": "[encoded data removed]",
      "text/plain": [
       "<Figure size 1200x600 with 1 Axes>"
      ]
     },
     "metadata": {},
     "output_type": "display_data"
    }
   ],
   "source": [
    "# Get top 10 most frequent SOC_TITLE values\n",
    "top_soc = df['SOC_TITLE'].value_counts().head(10)\n",
    "\n",
    "# Plot\n",
    "plt.figure(figsize=(12, 6))\n",
    "sns.barplot(x=top_soc.values, y=top_soc.index, palette='viridis')\n",
    "plt.title('Top 10 Most Frequent SOC_TITLES')\n",
    "plt.xlabel('Count')\n",
    "plt.ylabel('SOC_TITLE')\n",
    "plt.tight_layout()\n",
    "plt.show()\n"
   ]
  },
  {
   "cell_type": "code",
   "execution_count": 128,
   "id": "52c81ce0-e533-4b81-bcf6-b534326ebd33",
   "metadata": {},
   "outputs": [
    {
     "data": {
      "text/plain": [
       "FULL_TIME_POSITION\n",
       "Y    2485412\n",
       "N      40262\n",
       "Name: count, dtype: int64"
      ]
     },
     "execution_count": 128,
     "metadata": {},
     "output_type": "execute_result"
    }
   ],
   "source": [
    "df['FULL_TIME_POSITION'].value_counts()"
   ]
  },
  {
   "cell_type": "code",
   "execution_count": null,
   "id": "7df410a8-b988-49d3-afce-dab24a8b8536",
   "metadata": {},
   "outputs": [],
   "source": []
  },
  {
   "cell_type": "code",
   "execution_count": 131,
   "id": "d6e26506-7285-4440-9361-d031280938b4",
   "metadata": {},
   "outputs": [],
   "source": [
    "# Step 1: Convert to datetime\n",
    "df['RECEIVED_DATE'] = pd.to_datetime(df['RECEIVED_DATE'], errors='coerce')\n",
    "\n",
    "# Step 2: Extract year\n",
    "df['YEAR'] = df['RECEIVED_DATE'].dt.year\n"
   ]
  },
  {
   "cell_type": "code",
   "execution_count": 132,
   "id": "513e8610-2421-4547-ae2d-caffd05f4985",
   "metadata": {},
   "outputs": [
    {
     "data": {
      "text/plain": [
       "YEAR\n",
       "2020    710438\n",
       "2021    686777\n",
       "2022    479282\n",
       "2024    430898\n",
       "2019    115757\n",
       "2023    100543\n",
       "2018      1111\n",
       "2017       729\n",
       "2016       139\n",
       "Name: count, dtype: int64"
      ]
     },
     "execution_count": 132,
     "metadata": {},
     "output_type": "execute_result"
    }
   ],
   "source": [
    "df['YEAR'].value_counts()"
   ]
  },
  {
   "cell_type": "code",
   "execution_count": 133,
   "id": "56a4a33a-bd5a-4f5e-bc66-6504c98e8cce",
   "metadata": {},
   "outputs": [
    {
     "name": "stdout",
     "output_type": "stream",
     "text": [
      "<class 'pandas.core.frame.DataFrame'>\n",
      "Index: 2525674 entries, 0 to 2590759\n",
      "Data columns (total 33 columns):\n",
      " #   Column                      Dtype         \n",
      "---  ------                      -----         \n",
      " 0   CASE_STATUS                 object        \n",
      " 1   RECEIVED_DATE               datetime64[ns]\n",
      " 2   DECISION_DATE               datetime64[ns]\n",
      " 3   BEGIN_DATE                  datetime64[ns]\n",
      " 4   END_DATE                    datetime64[ns]\n",
      " 5   JOB_TITLE                   object        \n",
      " 6   SOC_CODE                    object        \n",
      " 7   SOC_TITLE                   object        \n",
      " 8   FULL_TIME_POSITION          object        \n",
      " 9   TOTAL_WORKER_POSITIONS      int64         \n",
      " 10  NEW_EMPLOYMENT              int64         \n",
      " 11  CONTINUED_EMPLOYMENT        int64         \n",
      " 12  CHANGE_PREVIOUS_EMPLOYMENT  int64         \n",
      " 13  CHANGE_EMPLOYER             int64         \n",
      " 14  NEW_CONCURRENT_EMPLOYMENT   int64         \n",
      " 15  AMENDED_PETITION            int64         \n",
      " 16  EMPLOYER_NAME               object        \n",
      " 17  EMPLOYER_CITY               object        \n",
      " 18  EMPLOYER_STATE              object        \n",
      " 19  EMPLOYER_COUNTRY            object        \n",
      " 20  NAICS_CODE                  int64         \n",
      " 21  WORKSITE_CITY               object        \n",
      " 22  WORKSITE_STATE              object        \n",
      " 23  WAGE_RATE_OF_PAY_FROM       float64       \n",
      " 24  WAGE_UNIT_OF_PAY            object        \n",
      " 25  PREVAILING_WAGE             float64       \n",
      " 26  PW_UNIT_OF_PAY              object        \n",
      " 27  PW_WAGE_LEVEL               object        \n",
      " 28  H1B_DEPENDENT               object        \n",
      " 29  WILLFUL_VIOLATOR            object        \n",
      " 30  AGREE_TO_LC_STATEMENT       object        \n",
      " 31  TOTAL_WORKSITE_LOCATIONS    float64       \n",
      " 32  YEAR                        int32         \n",
      "dtypes: datetime64[ns](4), float64(3), int32(1), int64(8), object(17)\n",
      "memory usage: 645.5+ MB\n"
     ]
    }
   ],
   "source": [
    "df.info()"
   ]
  },
  {
   "cell_type": "code",
   "execution_count": null,
   "id": "973ea3ed-beaa-40f1-b0e9-a1cc872cbebe",
   "metadata": {},
   "outputs": [],
   "source": []
  },
  {
   "cell_type": "code",
   "execution_count": null,
   "id": "d77375f7-5cd9-47be-b6e2-e6dff958efdf",
   "metadata": {},
   "outputs": [],
   "source": []
  },
  {
   "cell_type": "code",
   "execution_count": 136,
   "id": "28b02e44-5d6e-4026-8f66-69b94a9688ee",
   "metadata": {},
   "outputs": [
    {
     "data": {
      "text/plain": [
       "EMPLOYER_NAME\n",
       "COGNIZANT TECHNOLOGY SOLUTIONS US CORP    73478\n",
       "Google LLC                                42352\n",
       "Microsoft Corporation                     39974\n",
       "Ernst & Young U.S. LLP                    38117\n",
       "Amazon.com Services LLC                   35537\n",
       "INFOSYS LIMITED                           30505\n",
       "TATA CONSULTANCY SERVICES LIMITED         29236\n",
       "Accenture LLP                             18364\n",
       "AMAZON.COM SERVICES LLC                   18096\n",
       "Apple Inc.                                17160\n",
       "Deloitte Consulting LLP                   16254\n",
       "CAPGEMINI AMERICA INC                     16211\n",
       "Tata Consultancy Services Limited         15742\n",
       "Intel Corporation                         15376\n",
       "WAL-MART ASSOCIATES, INC.                 15348\n",
       "WIPRO LIMITED                             11427\n",
       "COMPUNNEL SOFTWARE GROUP, INC              9801\n",
       "Amazon Web Services, Inc.                  9731\n",
       "HCL AMERICA, INC.                          9561\n",
       "IBM Corporation                            9493\n",
       "Name: count, dtype: int64"
      ]
     },
     "execution_count": 136,
     "metadata": {},
     "output_type": "execute_result"
    }
   ],
   "source": [
    "df['EMPLOYER_NAME'].value_counts().head(20)"
   ]
  },
  {
   "cell_type": "code",
   "execution_count": 137,
   "id": "4bfc88c3-6828-4beb-a498-4219b0e43b00",
   "metadata": {},
   "outputs": [],
   "source": [
    "import re\n",
    "\n",
    "def clean_employer_name(name):\n",
    "    name = name.upper()\n",
    "    name = re.sub(r'[^\\w\\s]', '', name)  # remove punctuation\n",
    "    name = name.strip()\n",
    "\n",
    "    # Map known duplicates to a standard name\n",
    "    mapping = {\n",
    "        'AMAZONCOM SERVICES LLC': 'AMAZON',\n",
    "        'AMAZON WEB SERVICES INC': 'AMAZON',\n",
    "        'TATA CONSULTANCY SERVICES LIMITED': 'TCS',\n",
    "        'TATA CONSULTANCY SERVICES LIMITED': 'TCS',\n",
    "        'TATA CONSULTANCY SERVICES LTD': 'TCS',\n",
    "        'TCS LIMITED': 'TCS',\n",
    "        'ERNST & YOUNG US LLP': 'ERNST & YOUNG',\n",
    "        'ERNST YOUNG US LLP': 'ERNST & YOUNG',\n",
    "        'WALMART ASSOCIATES INC': 'WALMART',\n",
    "        'WAL-MART ASSOCIATES INC': 'WALMART',\n",
    "        'META PLATFORMS INC':'META',\n",
    "        'FACEBOOK INC':'META'\n",
    "        \n",
    "    }\n",
    "\n",
    "    # Standardize cleaned name using the mapping\n",
    "    return mapping.get(name, name)\n",
    "\n",
    "# Apply the function\n",
    "df['EMPLOYER_NAME_CLEANED'] = df['EMPLOYER_NAME'].apply(clean_employer_name)"
   ]
  },
  {
   "cell_type": "code",
   "execution_count": 138,
   "id": "8383a2e2-2454-4c0c-bb68-5aad6d1c16f2",
   "metadata": {},
   "outputs": [],
   "source": [
    "top_20_employers=df['EMPLOYER_NAME_CLEANED'].value_counts().head(20)"
   ]
  },
  {
   "cell_type": "code",
   "execution_count": 140,
   "id": "4ac8c12f-b056-4751-95b1-1c212fb2edf4",
   "metadata": {},
   "outputs": [],
   "source": [
    "df['EMPLOYER'] = df['EMPLOYER_NAME_CLEANED'].apply(\n",
    "    lambda x: x if x in top_20_employers else 'OTHER')"
   ]
  },
  {
   "cell_type": "code",
   "execution_count": 141,
   "id": "39508407-f82a-4a57-93c2-c200f024b7a9",
   "metadata": {},
   "outputs": [
    {
     "data": {
      "text/plain": [
       "EMPLOYER\n",
       "OTHER                                     1973111\n",
       "COGNIZANT TECHNOLOGY SOLUTIONS US CORP      73479\n",
       "AMAZON                                      69664\n",
       "GOOGLE LLC                                  46108\n",
       "TCS                                         44982\n",
       "MICROSOFT CORPORATION                       40182\n",
       "ERNST  YOUNG US LLP                         38215\n",
       "INFOSYS LIMITED                             30559\n",
       "META                                        26642\n",
       "DELOITTE CONSULTING LLP                     21724\n",
       "APPLE INC                                   19226\n",
       "HCL AMERICA INC                             19053\n",
       "ACCENTURE LLP                               18896\n",
       "CAPGEMINI AMERICA INC                       18270\n",
       "INTEL CORPORATION                           15458\n",
       "WALMART                                     15351\n",
       "JPMORGAN CHASE  CO                          14255\n",
       "WIPRO LIMITED                               11428\n",
       "COMPUNNEL SOFTWARE GROUP INC                 9955\n",
       "IBM CORPORATION                              9727\n",
       "QUALCOMM TECHNOLOGIES INC                    9389\n",
       "Name: count, dtype: int64"
      ]
     },
     "execution_count": 141,
     "metadata": {},
     "output_type": "execute_result"
    }
   ],
   "source": [
    "df['EMPLOYER'].value_counts()"
   ]
  },
  {
   "cell_type": "code",
   "execution_count": 142,
   "id": "5bd35dc9-474d-4261-814f-f8a0d949143d",
   "metadata": {},
   "outputs": [
    {
     "data": {
      "text/plain": [
       "AGREE_TO_LC_STATEMENT\n",
       "Yes    2525674\n",
       "Name: count, dtype: int64"
      ]
     },
     "execution_count": 142,
     "metadata": {},
     "output_type": "execute_result"
    }
   ],
   "source": [
    "df['AGREE_TO_LC_STATEMENT'].value_counts()"
   ]
  },
  {
   "cell_type": "code",
   "execution_count": 143,
   "id": "0fea768e-f2da-415f-96be-d06bfdc5307b",
   "metadata": {},
   "outputs": [
    {
     "data": {
      "text/plain": [
       "TOTAL_WORKSITE_LOCATIONS\n",
       "1.0     1585020\n",
       "2.0      834535\n",
       "3.0       79831\n",
       "4.0       13927\n",
       "5.0        4844\n",
       "6.0        2665\n",
       "10.0       1786\n",
       "7.0        1249\n",
       "9.0        1006\n",
       "8.0         811\n",
       "Name: count, dtype: int64"
      ]
     },
     "execution_count": 143,
     "metadata": {},
     "output_type": "execute_result"
    }
   ],
   "source": [
    "df['TOTAL_WORKSITE_LOCATIONS'].value_counts()"
   ]
  },
  {
   "cell_type": "code",
   "execution_count": 144,
   "id": "548dad9a-116b-4521-8581-34c50d71af3a",
   "metadata": {},
   "outputs": [
    {
     "data": {
      "text/plain": [
       "AMENDED_PETITION\n",
       "0      2058697\n",
       "1       423068\n",
       "5         9133\n",
       "2         8778\n",
       "10        6176\n",
       "4         5879\n",
       "3         5546\n",
       "25        4217\n",
       "15        3197\n",
       "6          337\n",
       "20         330\n",
       "8           95\n",
       "11          65\n",
       "35          57\n",
       "50          41\n",
       "30          32\n",
       "40           9\n",
       "7            5\n",
       "16           5\n",
       "9            2\n",
       "13           2\n",
       "100          1\n",
       "300          1\n",
       "19           1\n",
       "Name: count, dtype: int64"
      ]
     },
     "execution_count": 144,
     "metadata": {},
     "output_type": "execute_result"
    }
   ],
   "source": [
    "df['AMENDED_PETITION'].value_counts()"
   ]
  },
  {
   "cell_type": "code",
   "execution_count": 145,
   "id": "d098c5ae-7382-44d8-9fe3-184cd897162b",
   "metadata": {},
   "outputs": [
    {
     "data": {
      "text/plain": [
       "CHANGE_EMPLOYER\n",
       "0      1959130\n",
       "1       531060\n",
       "5        10267\n",
       "2         8209\n",
       "4         5907\n",
       "10        3706\n",
       "15        3285\n",
       "3         1781\n",
       "20         483\n",
       "25         394\n",
       "6          378\n",
       "50         349\n",
       "100        285\n",
       "30         192\n",
       "8          144\n",
       "7           22\n",
       "9           15\n",
       "75          10\n",
       "200          9\n",
       "14           9\n",
       "33           7\n",
       "150          6\n",
       "13           5\n",
       "12           5\n",
       "40           5\n",
       "275          3\n",
       "22           3\n",
       "11           2\n",
       "60           2\n",
       "19           1\n",
       "Name: count, dtype: int64"
      ]
     },
     "execution_count": 145,
     "metadata": {},
     "output_type": "execute_result"
    }
   ],
   "source": [
    "df['CHANGE_EMPLOYER'].value_counts()"
   ]
  },
  {
   "cell_type": "code",
   "execution_count": 146,
   "id": "aa91b849-e15f-4175-94cf-a7d576a54aa8",
   "metadata": {},
   "outputs": [],
   "source": [
    "df['AMENDED_PETITION'] =df['AMENDED_PETITION'].apply(lambda x: 1 if x != 0 else 0)\n",
    "df['CHANGE_EMPLOYER'] = df['CHANGE_EMPLOYER'].apply(lambda x: 1 if x != 0 else 0)"
   ]
  },
  {
   "cell_type": "code",
   "execution_count": 147,
   "id": "eb09b503-ac28-462e-943e-06cee884844c",
   "metadata": {},
   "outputs": [
    {
     "name": "stdout",
     "output_type": "stream",
     "text": [
      "<class 'pandas.core.frame.DataFrame'>\n",
      "Index: 2525674 entries, 0 to 2590759\n",
      "Data columns (total 35 columns):\n",
      " #   Column                      Dtype         \n",
      "---  ------                      -----         \n",
      " 0   CASE_STATUS                 object        \n",
      " 1   RECEIVED_DATE               datetime64[ns]\n",
      " 2   DECISION_DATE               datetime64[ns]\n",
      " 3   BEGIN_DATE                  datetime64[ns]\n",
      " 4   END_DATE                    datetime64[ns]\n",
      " 5   JOB_TITLE                   object        \n",
      " 6   SOC_CODE                    object        \n",
      " 7   SOC_TITLE                   object        \n",
      " 8   FULL_TIME_POSITION          object        \n",
      " 9   TOTAL_WORKER_POSITIONS      int64         \n",
      " 10  NEW_EMPLOYMENT              int64         \n",
      " 11  CONTINUED_EMPLOYMENT        int64         \n",
      " 12  CHANGE_PREVIOUS_EMPLOYMENT  int64         \n",
      " 13  CHANGE_EMPLOYER             int64         \n",
      " 14  NEW_CONCURRENT_EMPLOYMENT   int64         \n",
      " 15  AMENDED_PETITION            int64         \n",
      " 16  EMPLOYER_NAME               object        \n",
      " 17  EMPLOYER_CITY               object        \n",
      " 18  EMPLOYER_STATE              object        \n",
      " 19  EMPLOYER_COUNTRY            object        \n",
      " 20  NAICS_CODE                  int64         \n",
      " 21  WORKSITE_CITY               object        \n",
      " 22  WORKSITE_STATE              object        \n",
      " 23  WAGE_RATE_OF_PAY_FROM       float64       \n",
      " 24  WAGE_UNIT_OF_PAY            object        \n",
      " 25  PREVAILING_WAGE             float64       \n",
      " 26  PW_UNIT_OF_PAY              object        \n",
      " 27  PW_WAGE_LEVEL               object        \n",
      " 28  H1B_DEPENDENT               object        \n",
      " 29  WILLFUL_VIOLATOR            object        \n",
      " 30  AGREE_TO_LC_STATEMENT       object        \n",
      " 31  TOTAL_WORKSITE_LOCATIONS    float64       \n",
      " 32  YEAR                        int32         \n",
      " 33  EMPLOYER_NAME_CLEANED       object        \n",
      " 34  EMPLOYER                    object        \n",
      "dtypes: datetime64[ns](4), float64(3), int32(1), int64(8), object(19)\n",
      "memory usage: 684.1+ MB\n"
     ]
    }
   ],
   "source": [
    "df.info()"
   ]
  },
  {
   "cell_type": "code",
   "execution_count": null,
   "id": "b03794f6-f8f3-4f96-8e3d-14a51160822c",
   "metadata": {},
   "outputs": [],
   "source": []
  },
  {
   "cell_type": "code",
   "execution_count": 149,
   "id": "6512cb70-dfdf-47b5-ae75-b73a15e7d2e5",
   "metadata": {},
   "outputs": [
    {
     "data": {
      "text/plain": [
       "EMPLOYER_NAME_CLEANED\n",
       "COGNIZANT TECHNOLOGY SOLUTIONS US CORP    73479\n",
       "AMAZON                                    69664\n",
       "GOOGLE LLC                                46108\n",
       "TCS                                       44982\n",
       "MICROSOFT CORPORATION                     40182\n",
       "                                          ...  \n",
       "LAHITA ENGINEERING LLC                        1\n",
       "RASTELLI BROS INC                             1\n",
       "MAPP DIGITAL US LLC                           1\n",
       "SUN KPO INC                                   1\n",
       "PI CUBE LLC                                   1\n",
       "Name: count, Length: 122245, dtype: int64"
      ]
     },
     "execution_count": 149,
     "metadata": {},
     "output_type": "execute_result"
    }
   ],
   "source": [
    "df['EMPLOYER_NAME_CLEANED'].value_counts()"
   ]
  },
  {
   "cell_type": "code",
   "execution_count": 150,
   "id": "63c4f402-4b43-4eaa-ac16-af3ba2508362",
   "metadata": {},
   "outputs": [],
   "source": [
    "us_state_abbrev = {\n",
    "    'AL': 'Alabama', 'AK': 'Alaska', 'AZ': 'Arizona', 'AR': 'Arkansas',\n",
    "    'CA': 'California', 'CO': 'Colorado', 'CT': 'Connecticut', 'DE': 'Delaware',\n",
    "    'FL': 'Florida', 'GA': 'Georgia', 'HI': 'Hawaii', 'ID': 'Idaho',\n",
    "    'IL': 'Illinois', 'IN': 'Indiana', 'IA': 'Iowa', 'KS': 'Kansas',\n",
    "    'KY': 'Kentucky', 'LA': 'Louisiana', 'ME': 'Maine', 'MD': 'Maryland',\n",
    "    'MA': 'Massachusetts', 'MI': 'Michigan', 'MN': 'Minnesota', 'MS': 'Mississippi',\n",
    "    'MO': 'Missouri', 'MT': 'Montana', 'NE': 'Nebraska', 'NV': 'Nevada',\n",
    "    'NH': 'New Hampshire', 'NJ': 'New Jersey', 'NM': 'New Mexico', 'NY': 'New York',\n",
    "    'NC': 'North Carolina', 'ND': 'North Dakota', 'OH': 'Ohio', 'OK': 'Oklahoma',\n",
    "    'OR': 'Oregon', 'PA': 'Pennsylvania', 'RI': 'Rhode Island', 'SC': 'South Carolina',\n",
    "    'SD': 'South Dakota', 'TN': 'Tennessee', 'TX': 'Texas', 'UT': 'Utah',\n",
    "    'VT': 'Vermont', 'VA': 'Virginia', 'WA': 'Washington', 'WV': 'West Virginia',\n",
    "    'WI': 'Wisconsin', 'WY': 'Wyoming', 'DC': 'District of Columbia',\n",
    "    'PR': 'Puerto Rico', 'VI': 'Virgin Islands', 'GU': 'Guam',\n",
    "    'MP': 'Northern Mariana Islands', 'AS': 'American Samoa', 'FM': 'Micronesia'\n",
    "}\n",
    "\n",
    "# Create new column with full state name\n",
    "df['EMPLOYER_STATE_FULL'] = df['EMPLOYER_STATE'].map(us_state_abbrev)"
   ]
  },
  {
   "cell_type": "code",
   "execution_count": 151,
   "id": "3a182c95-a213-4ebe-ba7e-9545861738de",
   "metadata": {},
   "outputs": [
    {
     "data": {
      "text/plain": [
       "EMPLOYER\n",
       "OTHER                                     1973111\n",
       "COGNIZANT TECHNOLOGY SOLUTIONS US CORP      73479\n",
       "AMAZON                                      69664\n",
       "GOOGLE LLC                                  46108\n",
       "TCS                                         44982\n",
       "MICROSOFT CORPORATION                       40182\n",
       "ERNST  YOUNG US LLP                         38215\n",
       "INFOSYS LIMITED                             30559\n",
       "META                                        26642\n",
       "DELOITTE CONSULTING LLP                     21724\n",
       "APPLE INC                                   19226\n",
       "HCL AMERICA INC                             19053\n",
       "ACCENTURE LLP                               18896\n",
       "CAPGEMINI AMERICA INC                       18270\n",
       "INTEL CORPORATION                           15458\n",
       "WALMART                                     15351\n",
       "JPMORGAN CHASE  CO                          14255\n",
       "WIPRO LIMITED                               11428\n",
       "COMPUNNEL SOFTWARE GROUP INC                 9955\n",
       "IBM CORPORATION                              9727\n",
       "QUALCOMM TECHNOLOGIES INC                    9389\n",
       "Name: count, dtype: int64"
      ]
     },
     "execution_count": 151,
     "metadata": {},
     "output_type": "execute_result"
    }
   ],
   "source": [
    "df['EMPLOYER'].value_counts()"
   ]
  },
  {
   "cell_type": "code",
   "execution_count": 152,
   "id": "a2ddd5e4-0fee-47e1-8c7d-88cd29aa579d",
   "metadata": {},
   "outputs": [],
   "source": [
    "#employement duration in days\n",
    "df['EMPLOYMENT_DURATION_DAYS'] = (df['END_DATE'] - df['BEGIN_DATE']).dt.days"
   ]
  },
  {
   "cell_type": "code",
   "execution_count": 153,
   "id": "e1889694-e8a4-4615-92c7-308d5121ec84",
   "metadata": {},
   "outputs": [
    {
     "data": {
      "text/plain": [
       "(2525674, 37)"
      ]
     },
     "execution_count": 153,
     "metadata": {},
     "output_type": "execute_result"
    }
   ],
   "source": [
    "df.shape"
   ]
  },
  {
   "cell_type": "code",
   "execution_count": 154,
   "id": "ca915f11-f2fa-41c7-9a89-1074acbd9e3d",
   "metadata": {},
   "outputs": [
    {
     "name": "stdout",
     "output_type": "stream",
     "text": [
      "<class 'pandas.core.frame.DataFrame'>\n",
      "Index: 2525674 entries, 0 to 2590759\n",
      "Data columns (total 37 columns):\n",
      " #   Column                      Dtype         \n",
      "---  ------                      -----         \n",
      " 0   CASE_STATUS                 object        \n",
      " 1   RECEIVED_DATE               datetime64[ns]\n",
      " 2   DECISION_DATE               datetime64[ns]\n",
      " 3   BEGIN_DATE                  datetime64[ns]\n",
      " 4   END_DATE                    datetime64[ns]\n",
      " 5   JOB_TITLE                   object        \n",
      " 6   SOC_CODE                    object        \n",
      " 7   SOC_TITLE                   object        \n",
      " 8   FULL_TIME_POSITION          object        \n",
      " 9   TOTAL_WORKER_POSITIONS      int64         \n",
      " 10  NEW_EMPLOYMENT              int64         \n",
      " 11  CONTINUED_EMPLOYMENT        int64         \n",
      " 12  CHANGE_PREVIOUS_EMPLOYMENT  int64         \n",
      " 13  CHANGE_EMPLOYER             int64         \n",
      " 14  NEW_CONCURRENT_EMPLOYMENT   int64         \n",
      " 15  AMENDED_PETITION            int64         \n",
      " 16  EMPLOYER_NAME               object        \n",
      " 17  EMPLOYER_CITY               object        \n",
      " 18  EMPLOYER_STATE              object        \n",
      " 19  EMPLOYER_COUNTRY            object        \n",
      " 20  NAICS_CODE                  int64         \n",
      " 21  WORKSITE_CITY               object        \n",
      " 22  WORKSITE_STATE              object        \n",
      " 23  WAGE_RATE_OF_PAY_FROM       float64       \n",
      " 24  WAGE_UNIT_OF_PAY            object        \n",
      " 25  PREVAILING_WAGE             float64       \n",
      " 26  PW_UNIT_OF_PAY              object        \n",
      " 27  PW_WAGE_LEVEL               object        \n",
      " 28  H1B_DEPENDENT               object        \n",
      " 29  WILLFUL_VIOLATOR            object        \n",
      " 30  AGREE_TO_LC_STATEMENT       object        \n",
      " 31  TOTAL_WORKSITE_LOCATIONS    float64       \n",
      " 32  YEAR                        int32         \n",
      " 33  EMPLOYER_NAME_CLEANED       object        \n",
      " 34  EMPLOYER                    object        \n",
      " 35  EMPLOYER_STATE_FULL         object        \n",
      " 36  EMPLOYMENT_DURATION_DAYS    int64         \n",
      "dtypes: datetime64[ns](4), float64(3), int32(1), int64(9), object(20)\n",
      "memory usage: 722.6+ MB\n"
     ]
    }
   ],
   "source": [
    "df.info()"
   ]
  },
  {
   "cell_type": "code",
   "execution_count": 155,
   "id": "f51272ce-c513-41f4-9dfd-7d8bde605ba4",
   "metadata": {},
   "outputs": [
    {
     "data": {
      "text/plain": [
       "H1B_DEPENDENT\n",
       "No     1874715\n",
       "Yes     650959\n",
       "Name: count, dtype: int64"
      ]
     },
     "execution_count": 155,
     "metadata": {},
     "output_type": "execute_result"
    }
   ],
   "source": [
    "df['H1B_DEPENDENT'].value_counts()"
   ]
  },
  {
   "cell_type": "code",
   "execution_count": 156,
   "id": "8bd84b58-3828-4432-9a1f-725b03f6543b",
   "metadata": {},
   "outputs": [
    {
     "data": {
      "text/plain": [
       "TOTAL_WORKER_POSITIONS\n",
       "1      2404524\n",
       "10       23020\n",
       "3        17880\n",
       "5        15153\n",
       "25       14786\n",
       "6        10863\n",
       "20        9983\n",
       "50        7338\n",
       "2         6082\n",
       "100       3317\n",
       "30        3260\n",
       "40        1908\n",
       "15        1873\n",
       "4         1493\n",
       "8          973\n",
       "24         747\n",
       "7          281\n",
       "200        259\n",
       "60         242\n",
       "75         232\n",
       "32         223\n",
       "12         202\n",
       "35         142\n",
       "9           91\n",
       "150         80\n",
       "16          80\n",
       "250         75\n",
       "99          74\n",
       "80          72\n",
       "11          47\n",
       "14          43\n",
       "55          41\n",
       "13          37\n",
       "125         36\n",
       "18          30\n",
       "17          25\n",
       "45          20\n",
       "42          20\n",
       "70          17\n",
       "36           9\n",
       "28           8\n",
       "19           7\n",
       "65           6\n",
       "49           6\n",
       "275          6\n",
       "23           5\n",
       "175          5\n",
       "46           5\n",
       "22           5\n",
       "450          4\n",
       "21           4\n",
       "300          3\n",
       "34           3\n",
       "85           3\n",
       "26           3\n",
       "71           2\n",
       "66           2\n",
       "29           2\n",
       "90           2\n",
       "44           2\n",
       "Name: count, dtype: int64"
      ]
     },
     "execution_count": 156,
     "metadata": {},
     "output_type": "execute_result"
    }
   ],
   "source": [
    "df['TOTAL_WORKER_POSITIONS'].value_counts().head(60)"
   ]
  },
  {
   "cell_type": "code",
   "execution_count": 157,
   "id": "80c15f45-d7df-433b-a007-89fefe81e659",
   "metadata": {},
   "outputs": [],
   "source": [
    "def bin_worker_positions(x):\n",
    "    if x == 1:\n",
    "        return 'Single'\n",
    "    elif x <= 5:\n",
    "        return 'Small (2–5)'\n",
    "    elif x <= 25:\n",
    "        return 'Medium (6–25)'\n",
    "    elif x <= 100:\n",
    "        return 'Large (26–100)'\n",
    "    else:\n",
    "        return 'Very Large (>100)'\n",
    "\n",
    "df['WORKER_COUNT_BIN'] = df['TOTAL_WORKER_POSITIONS'].apply(bin_worker_positions)\n"
   ]
  },
  {
   "cell_type": "code",
   "execution_count": 159,
   "id": "c4d63ab1-9fd8-4673-9c32-52351c0515a7",
   "metadata": {},
   "outputs": [
    {
     "data": {
      "image/png": "[encoded data removed]",
      "text/plain": [
       "<Figure size 640x480 with 1 Axes>"
      ]
     },
     "metadata": {},
     "output_type": "display_data"
    }
   ],
   "source": [
    "import seaborn as sns\n",
    "import matplotlib.pyplot as plt\n",
    "\n",
    "sns.countplot(data=df, x='WORKER_COUNT_BIN', hue='CASE_STATUS', order=[\n",
    "    'Single', 'Small (2–5)', 'Medium (6–25)', 'Large (26–100)', 'Very Large (>100)'\n",
    "])\n",
    "plt.title('Visa Case Status by Worker Count Bins')\n",
    "plt.xlabel('Worker Count Bin')\n",
    "plt.ylabel('Number of Applications')\n",
    "plt.xticks(rotation=15)\n",
    "plt.tight_layout()\n",
    "plt.show()\n"
   ]
  },
  {
   "cell_type": "code",
   "execution_count": 160,
   "id": "830af859-eb36-43af-987a-14730144b147",
   "metadata": {},
   "outputs": [],
   "source": [
    "df['WORKER_COUNT_BIN'] = df['WORKER_COUNT_BIN'].replace({\n",
    "    'Small (2–5)': 'Multiple',\n",
    "    'Medium (6–25)': 'Multiple',\n",
    "    'Large (26–100)': 'Multiple',\n",
    "    'Very Large (>100)': 'Multiple'\n",
    "})\n"
   ]
  },
  {
   "cell_type": "code",
   "execution_count": 161,
   "id": "a13fb23b-eb05-4981-af33-95b0cf2b036e",
   "metadata": {},
   "outputs": [
    {
     "data": {
      "text/plain": [
       "<Axes: xlabel='WORKER_COUNT_BIN', ylabel='count'>"
      ]
     },
     "execution_count": 161,
     "metadata": {},
     "output_type": "execute_result"
    },
    {
     "data": {
      "image/png": "[encoded data removed]",
      "text/plain": [
       "<Figure size 640x480 with 1 Axes>"
      ]
     },
     "metadata": {},
     "output_type": "display_data"
    }
   ],
   "source": [
    "sns.countplot(data=df, x='WORKER_COUNT_BIN', hue='CASE_STATUS', order=['Single', 'Multiple'])\n"
   ]
  },
  {
   "cell_type": "code",
   "execution_count": 162,
   "id": "5a0deca5-19d4-4fb2-acf0-f4dda5ca71e3",
   "metadata": {},
   "outputs": [],
   "source": [
    "# Step 1: Replace \"GEORGIA\" with \"UNITED STATES OF AMERICA\"\n",
    "df['EMPLOYER_COUNTRY'] =df['EMPLOYER_COUNTRY'].replace('GEORGIA', 'UNITED STATES OF AMERICA')\n",
    "\n",
    "# Step 2: Keep only rows where country is USA\n",
    "df = df[df['EMPLOYER_COUNTRY'] == 'UNITED STATES OF AMERICA']\n"
   ]
  },
  {
   "cell_type": "code",
   "execution_count": 163,
   "id": "3e241b3a-a426-4955-acba-322ddec02aa4",
   "metadata": {},
   "outputs": [
    {
     "data": {
      "text/plain": [
       "EMPLOYER_COUNTRY\n",
       "UNITED STATES OF AMERICA    2525609\n",
       "Name: count, dtype: int64"
      ]
     },
     "execution_count": 163,
     "metadata": {},
     "output_type": "execute_result"
    }
   ],
   "source": [
    "df['EMPLOYER_COUNTRY'].value_counts()"
   ]
  },
  {
   "cell_type": "code",
   "execution_count": 164,
   "id": "e4214a8d-bc65-4d96-aa3f-333df5e85256",
   "metadata": {},
   "outputs": [],
   "source": [
    "df.drop('EMPLOYER_COUNTRY',axis=1,inplace=True)"
   ]
  },
  {
   "cell_type": "code",
   "execution_count": 165,
   "id": "f904fefb-ab4d-4443-9bdf-0a5599dff8ee",
   "metadata": {},
   "outputs": [
    {
     "data": {
      "text/plain": [
       "EMPLOYER_CITY\n",
       "Schaumburg          7454\n",
       "Irvine              7448\n",
       "Newark              7236\n",
       "Fremont             7167\n",
       "Iselin              7130\n",
       "Wilmington          6938\n",
       "CHARLOTTE           6936\n",
       "Indianapolis        6757\n",
       "Redwood City        6666\n",
       "PRINCETON           6654\n",
       "BOSTON              6526\n",
       "Richmond            6183\n",
       "Dublin              6155\n",
       "San Mateo           6120\n",
       "Frisco              6082\n",
       "Herndon             5996\n",
       "Bellevue            5956\n",
       "Columbus            5874\n",
       "HERNDON             5671\n",
       "DALLAS              5667\n",
       "Fairfax             5613\n",
       "Piscataway          5568\n",
       "Washington          5488\n",
       "WOBURN              5476\n",
       "SANTA CLARA         5431\n",
       "Detroit             5401\n",
       "Phoenix             5312\n",
       "ARLINGTON           5283\n",
       "Moon Township       5175\n",
       "ATLANTA             5173\n",
       "Pleasanton          5161\n",
       "Tampa               5151\n",
       "New York            4947\n",
       "Richardson          4930\n",
       "Columbia            4912\n",
       "Farmington Hills    4901\n",
       "Riverwoods          4869\n",
       "San Francisco       4789\n",
       "Southfield          4744\n",
       "SOUTH PLAINFIELD    4464\n",
       "Omaha               4459\n",
       "FARMINGTON HILLS    4414\n",
       "Jersey City         4410\n",
       "Waltham             4408\n",
       "Baltimore           4343\n",
       "ISELIN              4151\n",
       "Ann Arbor           4123\n",
       "ALPHARETTA          4111\n",
       "Cincinnati          4102\n",
       "Warren              4068\n",
       "Milwaukee           4047\n",
       "Madison             4019\n",
       "Sterling            3925\n",
       "Ashburn             3882\n",
       "Round Rock          3865\n",
       "PHILADELPHIA        3761\n",
       "WARREN              3710\n",
       "Santa Monica        3709\n",
       "Auburn Hills        3701\n",
       "AUSTIN              3694\n",
       "Name: count, dtype: int64"
      ]
     },
     "execution_count": 165,
     "metadata": {},
     "output_type": "execute_result"
    }
   ],
   "source": [
    "df['EMPLOYER_CITY'].value_counts()[60:120]"
   ]
  },
  {
   "cell_type": "code",
   "execution_count": 167,
   "id": "117f1096-07d5-4de3-aa10-dd1b35ac338a",
   "metadata": {},
   "outputs": [],
   "source": [
    "df['EMPLOYER_CITY'] =df['EMPLOYER_CITY'].str.upper().str.strip()"
   ]
  },
  {
   "cell_type": "code",
   "execution_count": 169,
   "id": "fc7b7956-fe14-4bed-ade8-53203c4e1da9",
   "metadata": {},
   "outputs": [
    {
     "data": {
      "text/plain": [
       "EMPLOYER_CITY\n",
       "NEW YORK            126083\n",
       "SEATTLE              93453\n",
       "CHICAGO              81105\n",
       "COLLEGE STATION      75459\n",
       "SAN FRANCISCO        65306\n",
       "MOUNTAIN VIEW        61391\n",
       "SANTA CLARA          52882\n",
       "SAN JOSE             50561\n",
       "ROCKVILLE            49128\n",
       "REDMOND              43281\n",
       "PHILADELPHIA         43016\n",
       "RICHARDSON           39991\n",
       "SECAUCUS             39181\n",
       "BOSTON               36332\n",
       "SUNNYVALE            33203\n",
       "EDISON               31875\n",
       "HOUSTON              30791\n",
       "MENLO PARK           29807\n",
       "IRVING               27971\n",
       "DURHAM               25743\n",
       "DALLAS               22429\n",
       "ATLANTA              21611\n",
       "TROY                 21194\n",
       "CUPERTINO            19993\n",
       "AUSTIN               19519\n",
       "SAN DIEGO            19276\n",
       "PRINCETON            19148\n",
       "TAMPA                17195\n",
       "ALPHARETTA           16952\n",
       "BENTONVILLE          16837\n",
       "CHARLOTTE            15900\n",
       "PLANO                15374\n",
       "PALO ALTO            14735\n",
       "PISCATAWAY           14666\n",
       "JERSEY CITY          14123\n",
       "EAST BRUNSWICK       13467\n",
       "PLAINSBORO           13117\n",
       "HERNDON              11964\n",
       "ISELIN               11439\n",
       "CAMBRIDGE            10943\n",
       "LOS ANGELES          10864\n",
       "FARMINGTON HILLS     10853\n",
       "PITTSBURGH           10768\n",
       "MINNEAPOLIS          10444\n",
       "IRVINE               10429\n",
       "NEWARK                9827\n",
       "ST. LOUIS             9811\n",
       "SCHAUMBURG            9761\n",
       "NASHVILLE             9662\n",
       "WILMINGTON            9617\n",
       "BEDMINSTER            9590\n",
       "FREMONT               9470\n",
       "FRISCO                9049\n",
       "DETROIT               8775\n",
       "PHOENIX               8428\n",
       "FOSTER CITY           8243\n",
       "ARLINGTON             8142\n",
       "INDIANAPOLIS          8136\n",
       "WARREN                8065\n",
       "PLEASANTON            7822\n",
       "Name: count, dtype: int64"
      ]
     },
     "execution_count": 169,
     "metadata": {},
     "output_type": "execute_result"
    }
   ],
   "source": [
    "df['EMPLOYER_CITY'].value_counts().head(60)"
   ]
  },
  {
   "cell_type": "code",
   "execution_count": 170,
   "id": "a4d0d66c-6e70-4a26-8dc1-b55dd7103adb",
   "metadata": {},
   "outputs": [
    {
     "name": "stdout",
     "output_type": "stream",
     "text": [
      "7495\n"
     ]
    }
   ],
   "source": [
    "print(df['EMPLOYER_CITY'].nunique())\n"
   ]
  },
  {
   "cell_type": "code",
   "execution_count": 171,
   "id": "10e52372-1018-44b8-94e0-85913f652023",
   "metadata": {},
   "outputs": [],
   "source": [
    "df['NEW_CONCURRENT_EMPLOYMENT'] =df['NEW_CONCURRENT_EMPLOYMENT'].apply(lambda x: 1 if x > 0 else 0)"
   ]
  },
  {
   "cell_type": "code",
   "execution_count": 172,
   "id": "537c30ee-908a-4ef7-9a22-974e0cd0b2c2",
   "metadata": {},
   "outputs": [
    {
     "data": {
      "text/plain": [
       "NEW_CONCURRENT_EMPLOYMENT\n",
       "0    2507917\n",
       "1      17692\n",
       "Name: count, dtype: int64"
      ]
     },
     "execution_count": 172,
     "metadata": {},
     "output_type": "execute_result"
    }
   ],
   "source": [
    "df['NEW_CONCURRENT_EMPLOYMENT'].value_counts()"
   ]
  },
  {
   "cell_type": "code",
   "execution_count": null,
   "id": "f0d425f5-10a7-4622-9a43-7eef178c0829",
   "metadata": {},
   "outputs": [],
   "source": []
  },
  {
   "cell_type": "code",
   "execution_count": 174,
   "id": "859b753a-c025-437e-9193-da67b1b3f0f6",
   "metadata": {},
   "outputs": [
    {
     "data": {
      "text/plain": [
       "WAGE_RATE_OF_PAY_FROM\n",
       "120000.0    34051\n",
       "100000.0    29794\n",
       "110000.0    28321\n",
       "90000.0     27603\n",
       "130000.0    26964\n",
       "150000.0    25696\n",
       "125000.0    24642\n",
       "140000.0    23616\n",
       "80000.0     21845\n",
       "160000.0    21703\n",
       "95000.0     21420\n",
       "115000.0    20848\n",
       "135000.0    19476\n",
       "85000.0     18320\n",
       "105000.0    17531\n",
       "145000.0    14905\n",
       "75000.0     14252\n",
       "60000.0     14243\n",
       "170000.0    12868\n",
       "70000.0     12768\n",
       "175000.0    12216\n",
       "155000.0    11926\n",
       "180000.0    11622\n",
       "165000.0    11463\n",
       "200000.0    10793\n",
       "65000.0     10004\n",
       "94037.0      8119\n",
       "190000.0     7946\n",
       "185000.0     7565\n",
       "102000.0     6993\n",
       "92000.0      6688\n",
       "82000.0      6565\n",
       "78000.0      6118\n",
       "88000.0      5881\n",
       "93558.0      5764\n",
       "101192.0     5660\n",
       "86000.0      5625\n",
       "97000.0      5406\n",
       "96000.0      5178\n",
       "79768.0      5071\n",
       "72000.0      5070\n",
       "84000.0      4972\n",
       "112000.0     4960\n",
       "98000.0      4940\n",
       "100526.0     4872\n",
       "94000.0      4764\n",
       "108000.0     4696\n",
       "250000.0     4650\n",
       "91000.0      4589\n",
       "220000.0     4565\n",
       "210000.0     4529\n",
       "96595.0      4465\n",
       "93000.0      4346\n",
       "118000.0     4300\n",
       "101754.0     4094\n",
       "103000.0     4048\n",
       "195000.0     4028\n",
       "87000.0      4024\n",
       "77000.0      3990\n",
       "144000.0     3978\n",
       "Name: count, dtype: int64"
      ]
     },
     "execution_count": 174,
     "metadata": {},
     "output_type": "execute_result"
    }
   ],
   "source": [
    "df['WAGE_RATE_OF_PAY_FROM'].value_counts().head(60)"
   ]
  },
  {
   "cell_type": "code",
   "execution_count": 175,
   "id": "ff914612-8bf7-4e93-b412-8d97085f7825",
   "metadata": {},
   "outputs": [],
   "source": [
    "state_mapping = {\n",
    "    \"AL\": \"Alabama\", \"AK\": \"Alaska\", \"AZ\": \"Arizona\", \"AR\": \"Arkansas\",\n",
    "    \"CA\": \"California\", \"CO\": \"Colorado\", \"CT\": \"Connecticut\", \"DE\": \"Delaware\",\n",
    "    \"FL\": \"Florida\", \"GA\": \"Georgia\", \"HI\": \"Hawaii\", \"ID\": \"Idaho\",\n",
    "    \"IL\": \"Illinois\", \"IN\": \"Indiana\", \"IA\": \"Iowa\", \"KS\": \"Kansas\",\n",
    "    \"KY\": \"Kentucky\", \"LA\": \"Louisiana\", \"ME\": \"Maine\", \"MD\": \"Maryland\",\n",
    "    \"MA\": \"Massachusetts\", \"MI\": \"Michigan\", \"MN\": \"Minnesota\", \"MS\": \"Mississippi\",\n",
    "    \"MO\": \"Missouri\", \"MT\": \"Montana\", \"NE\": \"Nebraska\", \"NV\": \"Nevada\",\n",
    "    \"NH\": \"New Hampshire\", \"NJ\": \"New Jersey\", \"NM\": \"New Mexico\", \"NY\": \"New York\",\n",
    "    \"NC\": \"North Carolina\", \"ND\": \"North Dakota\", \"OH\": \"Ohio\", \"OK\": \"Oklahoma\",\n",
    "    \"OR\": \"Oregon\", \"PA\": \"Pennsylvania\", \"RI\": \"Rhode Island\", \"SC\": \"South Carolina\",\n",
    "    \"SD\": \"South Dakota\", \"TN\": \"Tennessee\", \"TX\": \"Texas\", \"UT\": \"Utah\",\n",
    "    \"VT\": \"Vermont\", \"VA\": \"Virginia\", \"WA\": \"Washington\", \"WV\": \"West Virginia\",\n",
    "    \"WI\": \"Wisconsin\", \"WY\": \"Wyoming\", \"DC\": \"District of Columbia\",\n",
    "    \"GU\": \"Guam\", \"MP\": \"Northern Mariana Islands\", \"PR\": \"Puerto Rico\",\n",
    "    \"VI\": \"U.S. Virgin Islands\"\n",
    "}\n",
    "\n",
    "df['WORKSITE_STATE'] =df['WORKSITE_STATE'].map(state_mapping)\n"
   ]
  },
  {
   "cell_type": "code",
   "execution_count": 176,
   "id": "0787d9d7-4ae2-4c55-bd84-bb698b1c1aab",
   "metadata": {},
   "outputs": [
    {
     "name": "stdout",
     "output_type": "stream",
     "text": [
      "<class 'pandas.core.frame.DataFrame'>\n",
      "Index: 2525609 entries, 0 to 2590759\n",
      "Data columns (total 37 columns):\n",
      " #   Column                      Dtype         \n",
      "---  ------                      -----         \n",
      " 0   CASE_STATUS                 object        \n",
      " 1   RECEIVED_DATE               datetime64[ns]\n",
      " 2   DECISION_DATE               datetime64[ns]\n",
      " 3   BEGIN_DATE                  datetime64[ns]\n",
      " 4   END_DATE                    datetime64[ns]\n",
      " 5   JOB_TITLE                   object        \n",
      " 6   SOC_CODE                    object        \n",
      " 7   SOC_TITLE                   object        \n",
      " 8   FULL_TIME_POSITION          object        \n",
      " 9   TOTAL_WORKER_POSITIONS      int64         \n",
      " 10  NEW_EMPLOYMENT              int64         \n",
      " 11  CONTINUED_EMPLOYMENT        int64         \n",
      " 12  CHANGE_PREVIOUS_EMPLOYMENT  int64         \n",
      " 13  CHANGE_EMPLOYER             int64         \n",
      " 14  NEW_CONCURRENT_EMPLOYMENT   int64         \n",
      " 15  AMENDED_PETITION            int64         \n",
      " 16  EMPLOYER_NAME               object        \n",
      " 17  EMPLOYER_CITY               object        \n",
      " 18  EMPLOYER_STATE              object        \n",
      " 19  NAICS_CODE                  int64         \n",
      " 20  WORKSITE_CITY               object        \n",
      " 21  WORKSITE_STATE              object        \n",
      " 22  WAGE_RATE_OF_PAY_FROM       float64       \n",
      " 23  WAGE_UNIT_OF_PAY            object        \n",
      " 24  PREVAILING_WAGE             float64       \n",
      " 25  PW_UNIT_OF_PAY              object        \n",
      " 26  PW_WAGE_LEVEL               object        \n",
      " 27  H1B_DEPENDENT               object        \n",
      " 28  WILLFUL_VIOLATOR            object        \n",
      " 29  AGREE_TO_LC_STATEMENT       object        \n",
      " 30  TOTAL_WORKSITE_LOCATIONS    float64       \n",
      " 31  YEAR                        int32         \n",
      " 32  EMPLOYER_NAME_CLEANED       object        \n",
      " 33  EMPLOYER                    object        \n",
      " 34  EMPLOYER_STATE_FULL         object        \n",
      " 35  EMPLOYMENT_DURATION_DAYS    int64         \n",
      " 36  WORKER_COUNT_BIN            object        \n",
      "dtypes: datetime64[ns](4), float64(3), int32(1), int64(9), object(20)\n",
      "memory usage: 722.6+ MB\n"
     ]
    }
   ],
   "source": [
    "df.info()"
   ]
  },
  {
   "cell_type": "code",
   "execution_count": 177,
   "id": "3f91ac35-3e2a-4c25-b2c1-8464f437a87b",
   "metadata": {},
   "outputs": [
    {
     "data": {
      "text/plain": [
       "122234"
      ]
     },
     "execution_count": 177,
     "metadata": {},
     "output_type": "execute_result"
    }
   ],
   "source": [
    "len(df['EMPLOYER_NAME_CLEANED'].value_counts())\n"
   ]
  },
  {
   "cell_type": "code",
   "execution_count": 178,
   "id": "259e5d94-321a-4971-9333-15aff0f4f0cd",
   "metadata": {},
   "outputs": [
    {
     "data": {
      "text/plain": [
       "EMPLOYER\n",
       "OTHER                                     1973046\n",
       "COGNIZANT TECHNOLOGY SOLUTIONS US CORP      73479\n",
       "AMAZON                                      69664\n",
       "GOOGLE LLC                                  46108\n",
       "TCS                                         44982\n",
       "MICROSOFT CORPORATION                       40182\n",
       "ERNST  YOUNG US LLP                         38215\n",
       "INFOSYS LIMITED                             30559\n",
       "META                                        26642\n",
       "DELOITTE CONSULTING LLP                     21724\n",
       "APPLE INC                                   19226\n",
       "HCL AMERICA INC                             19053\n",
       "ACCENTURE LLP                               18896\n",
       "CAPGEMINI AMERICA INC                       18270\n",
       "INTEL CORPORATION                           15458\n",
       "WALMART                                     15351\n",
       "JPMORGAN CHASE  CO                          14255\n",
       "WIPRO LIMITED                               11428\n",
       "COMPUNNEL SOFTWARE GROUP INC                 9955\n",
       "IBM CORPORATION                              9727\n",
       "QUALCOMM TECHNOLOGIES INC                    9389\n",
       "Name: count, dtype: int64"
      ]
     },
     "execution_count": 178,
     "metadata": {},
     "output_type": "execute_result"
    }
   ],
   "source": [
    "df['EMPLOYER'].value_counts()"
   ]
  },
  {
   "cell_type": "code",
   "execution_count": 179,
   "id": "0466b9a1-6466-40ee-821d-a65038b9649c",
   "metadata": {},
   "outputs": [
    {
     "data": {
      "text/plain": [
       "<Axes: ylabel='WAGE_RATE_OF_PAY_FROM'>"
      ]
     },
     "execution_count": 179,
     "metadata": {},
     "output_type": "execute_result"
    },
    {
     "data": {
      "image/png": "[encoded data removed]",
      "text/plain": [
       "<Figure size 640x480 with 1 Axes>"
      ]
     },
     "metadata": {},
     "output_type": "display_data"
    }
   ],
   "source": [
    "sns.boxplot(df['WAGE_RATE_OF_PAY_FROM'])"
   ]
  },
  {
   "cell_type": "code",
   "execution_count": 180,
   "id": "2ce84d51-230a-42cd-8874-1c58e0cdfb55",
   "metadata": {},
   "outputs": [],
   "source": [
    "# Cap wages at 99th percentile (optional)\n",
    "cap = df['WAGE_RATE_OF_PAY_FROM'].quantile(0.99)\n",
    "df['WAGE_RATE_OF_PAY_FROM'] = np.where(\n",
    "    df['WAGE_RATE_OF_PAY_FROM'] > cap, cap, df['WAGE_RATE_OF_PAY_FROM']\n",
    ")\n"
   ]
  },
  {
   "cell_type": "code",
   "execution_count": 182,
   "id": "d57d74cd-06ce-40ce-9b4a-ea692395840e",
   "metadata": {},
   "outputs": [],
   "source": [
    "def normalize_wage(row):\n",
    "        unit = row['WAGE_UNIT_OF_PAY']\n",
    "        wage = row['WAGE_RATE_OF_PAY_FROM']\n",
    "        if unit == 'Hour':\n",
    "            return wage * 40 * 52\n",
    "        elif unit == 'Week':\n",
    "            return wage * 52\n",
    "        elif unit == 'Bi-Weekly':\n",
    "            return wage * 26\n",
    "        elif unit == 'Month':\n",
    "            return wage * 12\n",
    "        elif unit == 'Year':\n",
    "            return wage\n",
    "        else:\n",
    "            return np.nan\n",
    "df['ANNUAL_WAGE'] = df.apply(normalize_wage, axis=1)"
   ]
  },
  {
   "cell_type": "code",
   "execution_count": 183,
   "id": "96fc52c1-bb2b-44fb-96df-f7132eab01df",
   "metadata": {},
   "outputs": [
    {
     "data": {
      "text/plain": [
       "count    2.525609e+06\n",
       "mean     1.080032e+05\n",
       "std      4.946955e+04\n",
       "min      7.250000e+00\n",
       "25%      8.000000e+04\n",
       "50%      1.018795e+05\n",
       "75%      1.350000e+05\n",
       "max      2.650000e+05\n",
       "Name: WAGE_RATE_OF_PAY_FROM, dtype: float64"
      ]
     },
     "execution_count": 183,
     "metadata": {},
     "output_type": "execute_result"
    }
   ],
   "source": [
    "df['WAGE_RATE_OF_PAY_FROM'].describe()"
   ]
  },
  {
   "cell_type": "code",
   "execution_count": 185,
   "id": "49c5c35f-cb44-4f49-a889-75d8a73e9dfa",
   "metadata": {},
   "outputs": [
    {
     "data": {
      "text/plain": [
       "0          100000.0\n",
       "1           80225.6\n",
       "2           90480.0\n",
       "3          119995.2\n",
       "4           75000.0\n",
       "             ...   \n",
       "2590755    132000.0\n",
       "2590756    126000.0\n",
       "2590757     97406.0\n",
       "2590758    124630.0\n",
       "2590759    150502.0\n",
       "Name: ANNUAL_WAGE, Length: 2525609, dtype: float64"
      ]
     },
     "execution_count": 185,
     "metadata": {},
     "output_type": "execute_result"
    }
   ],
   "source": [
    "df['ANNUAL_WAGE']"
   ]
  },
  {
   "cell_type": "code",
   "execution_count": 186,
   "id": "bf860236-8be9-459d-877d-69338a5c5753",
   "metadata": {},
   "outputs": [],
   "source": [
    "df.drop(columns=['WAGE_UNIT_OF_PAY','WAGE_RATE_OF_PAY_FROM'],axis=1,inplace=True)"
   ]
  },
  {
   "cell_type": "code",
   "execution_count": 187,
   "id": "f394a04a-a09c-4c87-8da4-633fa2b7ac22",
   "metadata": {},
   "outputs": [
    {
     "name": "stdout",
     "output_type": "stream",
     "text": [
      "PREVAILING WAGE\n"
     ]
    },
    {
     "data": {
      "text/plain": [
       "count    2.525609e+06\n",
       "mean     9.458741e+04\n",
       "std      4.059646e+04\n",
       "min      7.250000e+00\n",
       "25%      7.402700e+04\n",
       "50%      9.353800e+04\n",
       "75%      1.169380e+05\n",
       "max      8.108500e+05\n",
       "Name: PREVAILING_WAGE, dtype: float64"
      ]
     },
     "execution_count": 187,
     "metadata": {},
     "output_type": "execute_result"
    }
   ],
   "source": [
    "print(\"PREVAILING WAGE\")\n",
    "df['PREVAILING_WAGE'].describe()"
   ]
  },
  {
   "cell_type": "code",
   "execution_count": 188,
   "id": "ed9ec431-e46c-4d67-b097-2a52072f5f99",
   "metadata": {},
   "outputs": [
    {
     "data": {
      "text/plain": [
       "<Axes: ylabel='PREVAILING_WAGE'>"
      ]
     },
     "execution_count": 188,
     "metadata": {},
     "output_type": "execute_result"
    },
    {
     "data": {
      "image/png": "[encoded data removed]",
      "text/plain": [
       "<Figure size 640x480 with 1 Axes>"
      ]
     },
     "metadata": {},
     "output_type": "display_data"
    }
   ],
   "source": [
    "sns.boxplot(df['PREVAILING_WAGE'])"
   ]
  },
  {
   "cell_type": "code",
   "execution_count": 189,
   "id": "e46fa89e-708e-4d09-82fb-642baac5b4fd",
   "metadata": {},
   "outputs": [],
   "source": [
    "cap_value = df['PREVAILING_WAGE'].quantile(0.995)\n",
    "df['PREVAILING_WAGE'] = np.where(\n",
    "    df['PREVAILING_WAGE'] > cap_value,\n",
    "    cap_value,\n",
    "    df['PREVAILING_WAGE']\n",
    ")\n"
   ]
  },
  {
   "cell_type": "code",
   "execution_count": 190,
   "id": "18fad230-6740-488e-bfcf-14c8727c464b",
   "metadata": {},
   "outputs": [
    {
     "data": {
      "text/plain": [
       "<Axes: ylabel='PREVAILING_WAGE'>"
      ]
     },
     "execution_count": 190,
     "metadata": {},
     "output_type": "execute_result"
    },
    {
     "data": {
      "image/png": "[encoded data removed]",
      "text/plain": [
       "<Figure size 640x480 with 1 Axes>"
      ]
     },
     "metadata": {},
     "output_type": "display_data"
    }
   ],
   "source": [
    "sns.boxplot(df['PREVAILING_WAGE'])"
   ]
  },
  {
   "cell_type": "code",
   "execution_count": 191,
   "id": "5e9cc0ce-4991-4576-92db-d48e4bde628a",
   "metadata": {},
   "outputs": [
    {
     "name": "stdout",
     "output_type": "stream",
     "text": [
      "<class 'pandas.core.frame.DataFrame'>\n",
      "Index: 2525609 entries, 0 to 2590759\n",
      "Data columns (total 36 columns):\n",
      " #   Column                      Dtype         \n",
      "---  ------                      -----         \n",
      " 0   CASE_STATUS                 object        \n",
      " 1   RECEIVED_DATE               datetime64[ns]\n",
      " 2   DECISION_DATE               datetime64[ns]\n",
      " 3   BEGIN_DATE                  datetime64[ns]\n",
      " 4   END_DATE                    datetime64[ns]\n",
      " 5   JOB_TITLE                   object        \n",
      " 6   SOC_CODE                    object        \n",
      " 7   SOC_TITLE                   object        \n",
      " 8   FULL_TIME_POSITION          object        \n",
      " 9   TOTAL_WORKER_POSITIONS      int64         \n",
      " 10  NEW_EMPLOYMENT              int64         \n",
      " 11  CONTINUED_EMPLOYMENT        int64         \n",
      " 12  CHANGE_PREVIOUS_EMPLOYMENT  int64         \n",
      " 13  CHANGE_EMPLOYER             int64         \n",
      " 14  NEW_CONCURRENT_EMPLOYMENT   int64         \n",
      " 15  AMENDED_PETITION            int64         \n",
      " 16  EMPLOYER_NAME               object        \n",
      " 17  EMPLOYER_CITY               object        \n",
      " 18  EMPLOYER_STATE              object        \n",
      " 19  NAICS_CODE                  int64         \n",
      " 20  WORKSITE_CITY               object        \n",
      " 21  WORKSITE_STATE              object        \n",
      " 22  PREVAILING_WAGE             float64       \n",
      " 23  PW_UNIT_OF_PAY              object        \n",
      " 24  PW_WAGE_LEVEL               object        \n",
      " 25  H1B_DEPENDENT               object        \n",
      " 26  WILLFUL_VIOLATOR            object        \n",
      " 27  AGREE_TO_LC_STATEMENT       object        \n",
      " 28  TOTAL_WORKSITE_LOCATIONS    float64       \n",
      " 29  YEAR                        int32         \n",
      " 30  EMPLOYER_NAME_CLEANED       object        \n",
      " 31  EMPLOYER                    object        \n",
      " 32  EMPLOYER_STATE_FULL         object        \n",
      " 33  EMPLOYMENT_DURATION_DAYS    int64         \n",
      " 34  WORKER_COUNT_BIN            object        \n",
      " 35  ANNUAL_WAGE                 float64       \n",
      "dtypes: datetime64[ns](4), float64(3), int32(1), int64(9), object(19)\n",
      "memory usage: 703.3+ MB\n"
     ]
    }
   ],
   "source": [
    "df.info()"
   ]
  },
  {
   "cell_type": "code",
   "execution_count": 192,
   "id": "653ab44a-7974-4734-aca5-9c157b9a83db",
   "metadata": {},
   "outputs": [
    {
     "data": {
      "text/plain": [
       "array(['Other', 'Software Development', 'Engineering', 'Data & Analytics',\n",
       "       'Management', 'Education', 'Healthcare & Legal',\n",
       "       'Finance & Accounting', 'Architecture'], dtype=object)"
      ]
     },
     "execution_count": 192,
     "metadata": {},
     "output_type": "execute_result"
    }
   ],
   "source": [
    "df['SOC_TITLE'].unique()"
   ]
  },
  {
   "cell_type": "code",
   "execution_count": 193,
   "id": "10ed8371-a0b7-4fee-b45f-c63404ac1219",
   "metadata": {},
   "outputs": [
    {
     "data": {
      "text/plain": [
       "CASE_STATUS\n",
       "Certified                2350657\n",
       "Certified - Withdrawn     115040\n",
       "Withdrawn                  46069\n",
       "Denied                     13843\n",
       "Name: count, dtype: int64"
      ]
     },
     "execution_count": 193,
     "metadata": {},
     "output_type": "execute_result"
    }
   ],
   "source": [
    "df['CASE_STATUS'].value_counts()"
   ]
  },
  {
   "cell_type": "code",
   "execution_count": 194,
   "id": "a7e71e80-65de-401f-8063-40a4cba062c0",
   "metadata": {},
   "outputs": [],
   "source": [
    "df['CASE_STATUS_BINARY'] = df['CASE_STATUS'].apply(lambda x: 1 if x == 'Certified' else 0)"
   ]
  },
  {
   "cell_type": "code",
   "execution_count": 195,
   "id": "32f1a056-9213-4a8e-8895-6d4870390727",
   "metadata": {},
   "outputs": [],
   "source": [
    "df.to_csv(\"cleaned_and_preprocessed.csv\", index=False)"
   ]
  },
  {
   "cell_type": "code",
   "execution_count": null,
   "id": "05a4979d-cd53-4f56-8f8c-cfa8fdc6b2c0",
   "metadata": {},
   "outputs": [],
   "source": []
  },
  {
   "cell_type": "code",
   "execution_count": null,
   "id": "8fda0451-ef85-4adf-8ccb-be61d46819a1",
   "metadata": {},
   "outputs": [],
   "source": []
  },
  {
   "cell_type": "code",
   "execution_count": null,
   "id": "e562bf05-59d5-4b2e-a0da-ee27568bad19",
   "metadata": {},
   "outputs": [],
   "source": []
  },
  {
   "cell_type": "code",
   "execution_count": null,
   "id": "bb81b0f2-5e16-4657-afb2-c48e2ca4a22b",
   "metadata": {},
   "outputs": [],
   "source": []
  },
  {
   "cell_type": "code",
   "execution_count": null,
   "id": "e6eb0fd1-b5d3-47ad-851d-7596d7ee96cf",
   "metadata": {},
   "outputs": [],
   "source": []
  },
  {
   "cell_type": "code",
   "execution_count": null,
   "id": "b4dae003-250d-4ae4-bbf4-3997fcefb5bf",
   "metadata": {},
   "outputs": [],
   "source": []
  },
  {
   "cell_type": "code",
   "execution_count": null,
   "id": "24195a4b-afc5-4be6-858c-b8c3fb983107",
   "metadata": {},
   "outputs": [],
   "source": []
  }
 ],
 "metadata": {
  "kernelspec": {
   "display_name": "Python 3 (ipykernel)",
   "language": "python",
   "name": "python3"
  },
  "language_info": {
   "codemirror_mode": {
    "name": "ipython",
    "version": 3
   },
   "file_extension": ".py",
   "mimetype": "text/x-python",
   "name": "python",
   "nbconvert_exporter": "python",
   "pygments_lexer": "ipython3",
   "version": "3.12.4"
  }
 },
 "nbformat": 4,
 "nbformat_minor": 5
}
